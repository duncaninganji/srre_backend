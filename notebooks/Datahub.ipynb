{
  "nbformat": 4,
  "nbformat_minor": 0,
  "metadata": {
    "colab": {
      "name": "Datahub.ipynb",
      "provenance": [],
      "collapsed_sections": []
    },
    "kernelspec": {
      "display_name": "Python 3",
      "name": "python3"
    },
    "language_info": {
      "name": "python"
    }
  },
  "cells": [
    {
      "cell_type": "markdown",
      "metadata": {
        "id": "fUIyluToP4zV"
      },
      "source": [
        "# Boilerplate Setup Code\n",
        "\n",
        "This includes import statements and setting up google drive access to fetch the data"
      ]
    },
    {
      "cell_type": "code",
      "metadata": {
        "id": "973_bEsPP303"
      },
      "source": [
        "import matplotlib.pyplot as plt\n",
        "import pandas as pd\n",
        "import numpy as np\n",
        "import os\n",
        "import ast\n",
        "from matplotlib.pyplot import figure\n",
        "from google.colab import drive\n",
        "from collections import defaultdict"
      ],
      "execution_count": null,
      "outputs": []
    },
    {
      "cell_type": "code",
      "metadata": {
        "id": "USod-SblMvhT"
      },
      "source": [
        "drive.mount('/content/drive')\n",
        "\n",
        "DIRECTORY = '/content/drive/Shareddrives/CMPE295' \n",
        "\n",
        "if os.getcwd() != DIRECTORY:\n",
        "  os.chdir(DIRECTORY)"
      ],
      "execution_count": null,
      "outputs": []
    },
    {
      "cell_type": "code",
      "metadata": {
        "id": "S0phZ_ECQWh6"
      },
      "source": [
        "recipes_df = pd.read_csv('./Food_Com_Dataset/RAW_recipes.csv')"
      ],
      "execution_count": null,
      "outputs": []
    },
    {
      "cell_type": "markdown",
      "metadata": {
        "id": "OXmpwPFnQ91_"
      },
      "source": [
        "# Exploratory Data Analysis"
      ]
    },
    {
      "cell_type": "markdown",
      "metadata": {
        "id": "PO6TcM8mgbFo"
      },
      "source": [
        "Let's take a look at what we have in our dataframe"
      ]
    },
    {
      "cell_type": "code",
      "metadata": {
        "colab": {
          "base_uri": "https://localhost:8080/",
          "height": 35
        },
        "id": "NAjf-ACJYazt",
        "outputId": "45b75201-0002-43e6-b4b8-d1a0a1660bc0"
      },
      "source": [
        "recipes_df.sample(5).iloc[0].tags"
      ],
      "execution_count": null,
      "outputs": [
        {
          "output_type": "execute_result",
          "data": {
            "application/vnd.google.colaboratory.intrinsic+json": {
              "type": "string"
            },
            "text/plain": [
              "\"['30-minutes-or-less', 'time-to-make', 'course', 'main-ingredient', 'preparation', 'lunch', 'poultry', 'dietary', 'sandwiches', 'meat']\""
            ]
          },
          "metadata": {},
          "execution_count": 5
        }
      ]
    },
    {
      "cell_type": "markdown",
      "metadata": {
        "id": "oVLPVIiNghLh"
      },
      "source": [
        "We'll expand the nutrition column with individual headers for the different nutrition values"
      ]
    },
    {
      "cell_type": "code",
      "metadata": {
        "id": "3WXPIuL5efsj"
      },
      "source": [
        "headers = ['cal', 'totalFat', 'sugar', 'sodium', 'protein', 'satFat', 'carbs']\n",
        "nutrition = recipes_df['nutrition'].str.replace('[','').str.replace(']','').str.split(',').to_list()\n",
        "nutrition_df = pd.DataFrame(nutrition, index=recipes_df.index, columns=headers)\n",
        "recipes_df = recipes_df.join(nutrition_df).drop(columns=['nutrition'])"
      ],
      "execution_count": null,
      "outputs": []
    },
    {
      "cell_type": "code",
      "metadata": {
        "colab": {
          "base_uri": "https://localhost:8080/",
          "height": 581
        },
        "id": "Oikr3klL7nwy",
        "outputId": "2afc61d7-26e6-4ba7-f12e-281ef48aae69"
      },
      "source": [
        "recipes_df.head()"
      ],
      "execution_count": null,
      "outputs": [
        {
          "output_type": "execute_result",
          "data": {
            "text/html": [
              "<div>\n",
              "<style scoped>\n",
              "    .dataframe tbody tr th:only-of-type {\n",
              "        vertical-align: middle;\n",
              "    }\n",
              "\n",
              "    .dataframe tbody tr th {\n",
              "        vertical-align: top;\n",
              "    }\n",
              "\n",
              "    .dataframe thead th {\n",
              "        text-align: right;\n",
              "    }\n",
              "</style>\n",
              "<table border=\"1\" class=\"dataframe\">\n",
              "  <thead>\n",
              "    <tr style=\"text-align: right;\">\n",
              "      <th></th>\n",
              "      <th>name</th>\n",
              "      <th>id</th>\n",
              "      <th>minutes</th>\n",
              "      <th>contributor_id</th>\n",
              "      <th>submitted</th>\n",
              "      <th>tags</th>\n",
              "      <th>n_steps</th>\n",
              "      <th>steps</th>\n",
              "      <th>description</th>\n",
              "      <th>ingredients</th>\n",
              "      <th>n_ingredients</th>\n",
              "      <th>cal</th>\n",
              "      <th>totalFat</th>\n",
              "      <th>sugar</th>\n",
              "      <th>sodium</th>\n",
              "      <th>protein</th>\n",
              "      <th>satFat</th>\n",
              "      <th>carbs</th>\n",
              "    </tr>\n",
              "  </thead>\n",
              "  <tbody>\n",
              "    <tr>\n",
              "      <th>0</th>\n",
              "      <td>arriba   baked winter squash mexican style</td>\n",
              "      <td>137739</td>\n",
              "      <td>55</td>\n",
              "      <td>47892</td>\n",
              "      <td>2005-09-16</td>\n",
              "      <td>['60-minutes-or-less', 'time-to-make', 'course...</td>\n",
              "      <td>11</td>\n",
              "      <td>['make a choice and proceed with recipe', 'dep...</td>\n",
              "      <td>autumn is my favorite time of year to cook! th...</td>\n",
              "      <td>['winter squash', 'mexican seasoning', 'mixed ...</td>\n",
              "      <td>7</td>\n",
              "      <td>51.5</td>\n",
              "      <td>0.0</td>\n",
              "      <td>13.0</td>\n",
              "      <td>0.0</td>\n",
              "      <td>2.0</td>\n",
              "      <td>0.0</td>\n",
              "      <td>4.0</td>\n",
              "    </tr>\n",
              "    <tr>\n",
              "      <th>1</th>\n",
              "      <td>a bit different  breakfast pizza</td>\n",
              "      <td>31490</td>\n",
              "      <td>30</td>\n",
              "      <td>26278</td>\n",
              "      <td>2002-06-17</td>\n",
              "      <td>['30-minutes-or-less', 'time-to-make', 'course...</td>\n",
              "      <td>9</td>\n",
              "      <td>['preheat oven to 425 degrees f', 'press dough...</td>\n",
              "      <td>this recipe calls for the crust to be prebaked...</td>\n",
              "      <td>['prepared pizza crust', 'sausage patty', 'egg...</td>\n",
              "      <td>6</td>\n",
              "      <td>173.4</td>\n",
              "      <td>18.0</td>\n",
              "      <td>0.0</td>\n",
              "      <td>17.0</td>\n",
              "      <td>22.0</td>\n",
              "      <td>35.0</td>\n",
              "      <td>1.0</td>\n",
              "    </tr>\n",
              "    <tr>\n",
              "      <th>2</th>\n",
              "      <td>all in the kitchen  chili</td>\n",
              "      <td>112140</td>\n",
              "      <td>130</td>\n",
              "      <td>196586</td>\n",
              "      <td>2005-02-25</td>\n",
              "      <td>['time-to-make', 'course', 'preparation', 'mai...</td>\n",
              "      <td>6</td>\n",
              "      <td>['brown ground beef in large pot', 'add choppe...</td>\n",
              "      <td>this modified version of 'mom's' chili was a h...</td>\n",
              "      <td>['ground beef', 'yellow onions', 'diced tomato...</td>\n",
              "      <td>13</td>\n",
              "      <td>269.8</td>\n",
              "      <td>22.0</td>\n",
              "      <td>32.0</td>\n",
              "      <td>48.0</td>\n",
              "      <td>39.0</td>\n",
              "      <td>27.0</td>\n",
              "      <td>5.0</td>\n",
              "    </tr>\n",
              "    <tr>\n",
              "      <th>3</th>\n",
              "      <td>alouette  potatoes</td>\n",
              "      <td>59389</td>\n",
              "      <td>45</td>\n",
              "      <td>68585</td>\n",
              "      <td>2003-04-14</td>\n",
              "      <td>['60-minutes-or-less', 'time-to-make', 'course...</td>\n",
              "      <td>11</td>\n",
              "      <td>['place potatoes in a large pot of lightly sal...</td>\n",
              "      <td>this is a super easy, great tasting, make ahea...</td>\n",
              "      <td>['spreadable cheese with garlic and herbs', 'n...</td>\n",
              "      <td>11</td>\n",
              "      <td>368.1</td>\n",
              "      <td>17.0</td>\n",
              "      <td>10.0</td>\n",
              "      <td>2.0</td>\n",
              "      <td>14.0</td>\n",
              "      <td>8.0</td>\n",
              "      <td>20.0</td>\n",
              "    </tr>\n",
              "    <tr>\n",
              "      <th>4</th>\n",
              "      <td>amish  tomato ketchup  for canning</td>\n",
              "      <td>44061</td>\n",
              "      <td>190</td>\n",
              "      <td>41706</td>\n",
              "      <td>2002-10-25</td>\n",
              "      <td>['weeknight', 'time-to-make', 'course', 'main-...</td>\n",
              "      <td>5</td>\n",
              "      <td>['mix all ingredients&amp; boil for 2 1 / 2 hours ...</td>\n",
              "      <td>my dh's amish mother raised him on this recipe...</td>\n",
              "      <td>['tomato juice', 'apple cider vinegar', 'sugar...</td>\n",
              "      <td>8</td>\n",
              "      <td>352.9</td>\n",
              "      <td>1.0</td>\n",
              "      <td>337.0</td>\n",
              "      <td>23.0</td>\n",
              "      <td>3.0</td>\n",
              "      <td>0.0</td>\n",
              "      <td>28.0</td>\n",
              "    </tr>\n",
              "  </tbody>\n",
              "</table>\n",
              "</div>"
            ],
            "text/plain": [
              "                                         name      id  ...  satFat  carbs\n",
              "0  arriba   baked winter squash mexican style  137739  ...     0.0    4.0\n",
              "1            a bit different  breakfast pizza   31490  ...    35.0    1.0\n",
              "2                   all in the kitchen  chili  112140  ...    27.0    5.0\n",
              "3                          alouette  potatoes   59389  ...     8.0   20.0\n",
              "4          amish  tomato ketchup  for canning   44061  ...     0.0   28.0\n",
              "\n",
              "[5 rows x 18 columns]"
            ]
          },
          "metadata": {},
          "execution_count": 7
        }
      ]
    },
    {
      "cell_type": "markdown",
      "metadata": {
        "id": "zPdNlG9BhOKO"
      },
      "source": [
        "## Outlier Analysis"
      ]
    },
    {
      "cell_type": "code",
      "metadata": {
        "colab": {
          "base_uri": "https://localhost:8080/",
          "height": 297
        },
        "id": "MGzZriXaTJSn",
        "outputId": "96013ed9-c979-4e0a-8c2c-43d0851ab77f"
      },
      "source": [
        "recipes_df.describe()"
      ],
      "execution_count": null,
      "outputs": [
        {
          "output_type": "execute_result",
          "data": {
            "text/html": [
              "<div>\n",
              "<style scoped>\n",
              "    .dataframe tbody tr th:only-of-type {\n",
              "        vertical-align: middle;\n",
              "    }\n",
              "\n",
              "    .dataframe tbody tr th {\n",
              "        vertical-align: top;\n",
              "    }\n",
              "\n",
              "    .dataframe thead th {\n",
              "        text-align: right;\n",
              "    }\n",
              "</style>\n",
              "<table border=\"1\" class=\"dataframe\">\n",
              "  <thead>\n",
              "    <tr style=\"text-align: right;\">\n",
              "      <th></th>\n",
              "      <th>id</th>\n",
              "      <th>minutes</th>\n",
              "      <th>contributor_id</th>\n",
              "      <th>n_steps</th>\n",
              "      <th>n_ingredients</th>\n",
              "    </tr>\n",
              "  </thead>\n",
              "  <tbody>\n",
              "    <tr>\n",
              "      <th>count</th>\n",
              "      <td>231637.000000</td>\n",
              "      <td>2.316370e+05</td>\n",
              "      <td>2.316370e+05</td>\n",
              "      <td>231637.000000</td>\n",
              "      <td>231637.000000</td>\n",
              "    </tr>\n",
              "    <tr>\n",
              "      <th>mean</th>\n",
              "      <td>222014.708984</td>\n",
              "      <td>9.398546e+03</td>\n",
              "      <td>5.534885e+06</td>\n",
              "      <td>9.765499</td>\n",
              "      <td>9.051153</td>\n",
              "    </tr>\n",
              "    <tr>\n",
              "      <th>std</th>\n",
              "      <td>141206.635626</td>\n",
              "      <td>4.461963e+06</td>\n",
              "      <td>9.979141e+07</td>\n",
              "      <td>5.995128</td>\n",
              "      <td>3.734796</td>\n",
              "    </tr>\n",
              "    <tr>\n",
              "      <th>min</th>\n",
              "      <td>38.000000</td>\n",
              "      <td>0.000000e+00</td>\n",
              "      <td>2.700000e+01</td>\n",
              "      <td>0.000000</td>\n",
              "      <td>1.000000</td>\n",
              "    </tr>\n",
              "    <tr>\n",
              "      <th>25%</th>\n",
              "      <td>99944.000000</td>\n",
              "      <td>2.000000e+01</td>\n",
              "      <td>5.690500e+04</td>\n",
              "      <td>6.000000</td>\n",
              "      <td>6.000000</td>\n",
              "    </tr>\n",
              "    <tr>\n",
              "      <th>50%</th>\n",
              "      <td>207249.000000</td>\n",
              "      <td>4.000000e+01</td>\n",
              "      <td>1.736140e+05</td>\n",
              "      <td>9.000000</td>\n",
              "      <td>9.000000</td>\n",
              "    </tr>\n",
              "    <tr>\n",
              "      <th>75%</th>\n",
              "      <td>333816.000000</td>\n",
              "      <td>6.500000e+01</td>\n",
              "      <td>3.982750e+05</td>\n",
              "      <td>12.000000</td>\n",
              "      <td>11.000000</td>\n",
              "    </tr>\n",
              "    <tr>\n",
              "      <th>max</th>\n",
              "      <td>537716.000000</td>\n",
              "      <td>2.147484e+09</td>\n",
              "      <td>2.002290e+09</td>\n",
              "      <td>145.000000</td>\n",
              "      <td>43.000000</td>\n",
              "    </tr>\n",
              "  </tbody>\n",
              "</table>\n",
              "</div>"
            ],
            "text/plain": [
              "                  id       minutes  ...        n_steps  n_ingredients\n",
              "count  231637.000000  2.316370e+05  ...  231637.000000  231637.000000\n",
              "mean   222014.708984  9.398546e+03  ...       9.765499       9.051153\n",
              "std    141206.635626  4.461963e+06  ...       5.995128       3.734796\n",
              "min        38.000000  0.000000e+00  ...       0.000000       1.000000\n",
              "25%     99944.000000  2.000000e+01  ...       6.000000       6.000000\n",
              "50%    207249.000000  4.000000e+01  ...       9.000000       9.000000\n",
              "75%    333816.000000  6.500000e+01  ...      12.000000      11.000000\n",
              "max    537716.000000  2.147484e+09  ...     145.000000      43.000000\n",
              "\n",
              "[8 rows x 5 columns]"
            ]
          },
          "metadata": {},
          "execution_count": 8
        }
      ]
    },
    {
      "cell_type": "markdown",
      "metadata": {
        "id": "btRsIX47gs3f"
      },
      "source": [
        "Here's a high level overview of the discrete numerical data in our dataframe. Based on this we can tell that we have outliers, some of them are possibly anomalies that we'll have to delete for instance the max minutes value looks like an anomaly, so does a recipe with 0 minutes prep time or even 0 steps involved."
      ]
    },
    {
      "cell_type": "markdown",
      "metadata": {
        "id": "LI95FtI0h-In"
      },
      "source": [
        "### `minutes`"
      ]
    },
    {
      "cell_type": "code",
      "metadata": {
        "colab": {
          "base_uri": "https://localhost:8080/",
          "height": 297
        },
        "id": "7hqEHmJAh56E",
        "outputId": "fdd1e0e3-5bfd-43f1-cd9c-0659f4d26b14"
      },
      "source": [
        "minutes_outliers_df = recipes_df[recipes_df['minutes'] <= 0*60].sort_values(by='minutes')\n",
        "minutes_outliers_df.describe() "
      ],
      "execution_count": null,
      "outputs": [
        {
          "output_type": "execute_result",
          "data": {
            "text/html": [
              "<div>\n",
              "<style scoped>\n",
              "    .dataframe tbody tr th:only-of-type {\n",
              "        vertical-align: middle;\n",
              "    }\n",
              "\n",
              "    .dataframe tbody tr th {\n",
              "        vertical-align: top;\n",
              "    }\n",
              "\n",
              "    .dataframe thead th {\n",
              "        text-align: right;\n",
              "    }\n",
              "</style>\n",
              "<table border=\"1\" class=\"dataframe\">\n",
              "  <thead>\n",
              "    <tr style=\"text-align: right;\">\n",
              "      <th></th>\n",
              "      <th>id</th>\n",
              "      <th>minutes</th>\n",
              "      <th>contributor_id</th>\n",
              "      <th>n_steps</th>\n",
              "      <th>n_ingredients</th>\n",
              "    </tr>\n",
              "  </thead>\n",
              "  <tbody>\n",
              "    <tr>\n",
              "      <th>count</th>\n",
              "      <td>1094.000000</td>\n",
              "      <td>1094.0</td>\n",
              "      <td>1094.000000</td>\n",
              "      <td>1094.000000</td>\n",
              "      <td>1094.000000</td>\n",
              "    </tr>\n",
              "    <tr>\n",
              "      <th>mean</th>\n",
              "      <td>7781.452468</td>\n",
              "      <td>0.0</td>\n",
              "      <td>24377.671846</td>\n",
              "      <td>10.166362</td>\n",
              "      <td>8.915905</td>\n",
              "    </tr>\n",
              "    <tr>\n",
              "      <th>std</th>\n",
              "      <td>13615.216407</td>\n",
              "      <td>0.0</td>\n",
              "      <td>43693.918288</td>\n",
              "      <td>6.359878</td>\n",
              "      <td>3.577947</td>\n",
              "    </tr>\n",
              "    <tr>\n",
              "      <th>min</th>\n",
              "      <td>387.000000</td>\n",
              "      <td>0.0</td>\n",
              "      <td>1530.000000</td>\n",
              "      <td>1.000000</td>\n",
              "      <td>2.000000</td>\n",
              "    </tr>\n",
              "    <tr>\n",
              "      <th>25%</th>\n",
              "      <td>3259.250000</td>\n",
              "      <td>0.0</td>\n",
              "      <td>1534.000000</td>\n",
              "      <td>6.000000</td>\n",
              "      <td>6.000000</td>\n",
              "    </tr>\n",
              "    <tr>\n",
              "      <th>50%</th>\n",
              "      <td>4541.000000</td>\n",
              "      <td>0.0</td>\n",
              "      <td>1756.000000</td>\n",
              "      <td>9.000000</td>\n",
              "      <td>8.000000</td>\n",
              "    </tr>\n",
              "    <tr>\n",
              "      <th>75%</th>\n",
              "      <td>7120.500000</td>\n",
              "      <td>0.0</td>\n",
              "      <td>39547.000000</td>\n",
              "      <td>13.000000</td>\n",
              "      <td>11.000000</td>\n",
              "    </tr>\n",
              "    <tr>\n",
              "      <th>max</th>\n",
              "      <td>282837.000000</td>\n",
              "      <td>0.0</td>\n",
              "      <td>580209.000000</td>\n",
              "      <td>54.000000</td>\n",
              "      <td>24.000000</td>\n",
              "    </tr>\n",
              "  </tbody>\n",
              "</table>\n",
              "</div>"
            ],
            "text/plain": [
              "                  id  minutes  contributor_id      n_steps  n_ingredients\n",
              "count    1094.000000   1094.0     1094.000000  1094.000000    1094.000000\n",
              "mean     7781.452468      0.0    24377.671846    10.166362       8.915905\n",
              "std     13615.216407      0.0    43693.918288     6.359878       3.577947\n",
              "min       387.000000      0.0     1530.000000     1.000000       2.000000\n",
              "25%      3259.250000      0.0     1534.000000     6.000000       6.000000\n",
              "50%      4541.000000      0.0     1756.000000     9.000000       8.000000\n",
              "75%      7120.500000      0.0    39547.000000    13.000000      11.000000\n",
              "max    282837.000000      0.0   580209.000000    54.000000      24.000000"
            ]
          },
          "metadata": {},
          "execution_count": 9
        }
      ]
    },
    {
      "cell_type": "code",
      "metadata": {
        "colab": {
          "base_uri": "https://localhost:8080/",
          "height": 52
        },
        "id": "ihQnWv19ijFI",
        "outputId": "45052b8a-1ca0-4658-ed49-db1612854f92"
      },
      "source": [
        "minutes_outliers_df.sample(1).iloc[0].steps"
      ],
      "execution_count": null,
      "outputs": [
        {
          "output_type": "execute_result",
          "data": {
            "application/vnd.google.colaboratory.intrinsic+json": {
              "type": "string"
            },
            "text/plain": [
              "\"['drain & rinse corn & beans , add cilantro , green pepper onion , tomatoes & jalapeno', 'blend well', 'drizzle the oil and lime juice over top , then add spices', 'stir', 'refrigerate 2-4 hours or overnight', 'serve with tortilla chips']\""
            ]
          },
          "metadata": {},
          "execution_count": 10
        }
      ]
    },
    {
      "cell_type": "markdown",
      "metadata": {
        "id": "mALDC-YOlVC6"
      },
      "source": [
        "We'll set 15 minutes as the minimum time for all our recipes"
      ]
    },
    {
      "cell_type": "code",
      "metadata": {
        "id": "KtqzXbTKlg_4"
      },
      "source": [
        "recipes_df.loc[recipes_df['minutes'] < 15, 'minutes'] = 15"
      ],
      "execution_count": null,
      "outputs": []
    },
    {
      "cell_type": "code",
      "metadata": {
        "colab": {
          "base_uri": "https://localhost:8080/",
          "height": 297
        },
        "id": "Mz6LQeOhmrpA",
        "outputId": "dc63029b-2f6b-4f1c-f758-fd3cdb18968b"
      },
      "source": [
        "minutes_outliers_df = recipes_df[recipes_df['minutes'] > 24*90*60].sort_values(by='minutes')\n",
        "minutes_outliers_df.describe() "
      ],
      "execution_count": null,
      "outputs": [
        {
          "output_type": "execute_result",
          "data": {
            "text/html": [
              "<div>\n",
              "<style scoped>\n",
              "    .dataframe tbody tr th:only-of-type {\n",
              "        vertical-align: middle;\n",
              "    }\n",
              "\n",
              "    .dataframe tbody tr th {\n",
              "        vertical-align: top;\n",
              "    }\n",
              "\n",
              "    .dataframe thead th {\n",
              "        text-align: right;\n",
              "    }\n",
              "</style>\n",
              "<table border=\"1\" class=\"dataframe\">\n",
              "  <thead>\n",
              "    <tr style=\"text-align: right;\">\n",
              "      <th></th>\n",
              "      <th>id</th>\n",
              "      <th>minutes</th>\n",
              "      <th>contributor_id</th>\n",
              "      <th>n_steps</th>\n",
              "      <th>n_ingredients</th>\n",
              "    </tr>\n",
              "  </thead>\n",
              "  <tbody>\n",
              "    <tr>\n",
              "      <th>count</th>\n",
              "      <td>20.000000</td>\n",
              "      <td>2.000000e+01</td>\n",
              "      <td>20.000000</td>\n",
              "      <td>20.000000</td>\n",
              "      <td>20.000000</td>\n",
              "    </tr>\n",
              "    <tr>\n",
              "      <th>mean</th>\n",
              "      <td>198681.050000</td>\n",
              "      <td>1.075830e+08</td>\n",
              "      <td>228997.050000</td>\n",
              "      <td>10.400000</td>\n",
              "      <td>4.600000</td>\n",
              "    </tr>\n",
              "    <tr>\n",
              "      <th>std</th>\n",
              "      <td>119749.394419</td>\n",
              "      <td>4.801428e+08</td>\n",
              "      <td>195599.786236</td>\n",
              "      <td>6.336195</td>\n",
              "      <td>2.087557</td>\n",
              "    </tr>\n",
              "    <tr>\n",
              "      <th>min</th>\n",
              "      <td>2714.000000</td>\n",
              "      <td>1.296100e+05</td>\n",
              "      <td>1549.000000</td>\n",
              "      <td>4.000000</td>\n",
              "      <td>2.000000</td>\n",
              "    </tr>\n",
              "    <tr>\n",
              "      <th>25%</th>\n",
              "      <td>139953.500000</td>\n",
              "      <td>1.296275e+05</td>\n",
              "      <td>32653.750000</td>\n",
              "      <td>7.000000</td>\n",
              "      <td>3.000000</td>\n",
              "    </tr>\n",
              "    <tr>\n",
              "      <th>50%</th>\n",
              "      <td>226244.500000</td>\n",
              "      <td>1.699200e+05</td>\n",
              "      <td>231335.500000</td>\n",
              "      <td>8.500000</td>\n",
              "      <td>4.000000</td>\n",
              "    </tr>\n",
              "    <tr>\n",
              "      <th>75%</th>\n",
              "      <td>240954.250000</td>\n",
              "      <td>2.268125e+05</td>\n",
              "      <td>328177.250000</td>\n",
              "      <td>11.250000</td>\n",
              "      <td>6.250000</td>\n",
              "    </tr>\n",
              "    <tr>\n",
              "      <th>max</th>\n",
              "      <td>447963.000000</td>\n",
              "      <td>2.147484e+09</td>\n",
              "      <td>576273.000000</td>\n",
              "      <td>31.000000</td>\n",
              "      <td>8.000000</td>\n",
              "    </tr>\n",
              "  </tbody>\n",
              "</table>\n",
              "</div>"
            ],
            "text/plain": [
              "                  id       minutes  contributor_id    n_steps  n_ingredients\n",
              "count      20.000000  2.000000e+01       20.000000  20.000000      20.000000\n",
              "mean   198681.050000  1.075830e+08   228997.050000  10.400000       4.600000\n",
              "std    119749.394419  4.801428e+08   195599.786236   6.336195       2.087557\n",
              "min      2714.000000  1.296100e+05     1549.000000   4.000000       2.000000\n",
              "25%    139953.500000  1.296275e+05    32653.750000   7.000000       3.000000\n",
              "50%    226244.500000  1.699200e+05   231335.500000   8.500000       4.000000\n",
              "75%    240954.250000  2.268125e+05   328177.250000  11.250000       6.250000\n",
              "max    447963.000000  2.147484e+09   576273.000000  31.000000       8.000000"
            ]
          },
          "metadata": {},
          "execution_count": 12
        }
      ]
    },
    {
      "cell_type": "code",
      "metadata": {
        "colab": {
          "base_uri": "https://localhost:8080/",
          "height": 86
        },
        "id": "8pqj_LmVmyvX",
        "outputId": "fae0d1e3-c44a-4817-bd99-a7d6982dd53a"
      },
      "source": [
        "minutes_outliers_df.sample(1).iloc[0].steps"
      ],
      "execution_count": null,
      "outputs": [
        {
          "output_type": "execute_result",
          "data": {
            "application/vnd.google.colaboratory.intrinsic+json": {
              "type": "string"
            },
            "text/plain": [
              "\"['in a quart jar , add strawberries , 1 cup sugar , and vodka', 'seal jar tightly , and place in a dry , dark place for about 2 weeks', 'after two weeks , strain the liquid using a double layer of cheese cloth', 'gently squeeze the berries , getting as much juice from the berries as possible', 'in a fresh quart jar , add the second cup of sugar , glycerin , water to top and the strained liquid', 'seal and store again in a dark place until sugar is dissolved', 'once the sugar has all dissolved , bottle the resulting liqueur in a fresh bottle and let age for roughly 3 months']\""
            ]
          },
          "metadata": {},
          "execution_count": 13
        }
      ]
    },
    {
      "cell_type": "markdown",
      "metadata": {
        "id": "SJ4lE2VnnK_X"
      },
      "source": [
        "It seems that it would be unreasonable to place a maximum cap on the recipe prep time since there are recipes that actually take this long especially those involving brewing of alcohol."
      ]
    },
    {
      "cell_type": "markdown",
      "metadata": {
        "id": "e-ENKDF4ncnb"
      },
      "source": [
        "### `n_steps`"
      ]
    },
    {
      "cell_type": "code",
      "metadata": {
        "colab": {
          "base_uri": "https://localhost:8080/",
          "height": 297
        },
        "id": "lVkWkOymnkxL",
        "outputId": "bcd01136-b93e-45b6-f8d9-aed1fc32215e"
      },
      "source": [
        "n_steps_outliers_df = recipes_df[recipes_df['n_steps'] < 1].sort_values(by='n_steps')\n",
        "n_steps_outliers_df.describe() "
      ],
      "execution_count": null,
      "outputs": [
        {
          "output_type": "execute_result",
          "data": {
            "text/html": [
              "<div>\n",
              "<style scoped>\n",
              "    .dataframe tbody tr th:only-of-type {\n",
              "        vertical-align: middle;\n",
              "    }\n",
              "\n",
              "    .dataframe tbody tr th {\n",
              "        vertical-align: top;\n",
              "    }\n",
              "\n",
              "    .dataframe thead th {\n",
              "        text-align: right;\n",
              "    }\n",
              "</style>\n",
              "<table border=\"1\" class=\"dataframe\">\n",
              "  <thead>\n",
              "    <tr style=\"text-align: right;\">\n",
              "      <th></th>\n",
              "      <th>id</th>\n",
              "      <th>minutes</th>\n",
              "      <th>contributor_id</th>\n",
              "      <th>n_steps</th>\n",
              "      <th>n_ingredients</th>\n",
              "    </tr>\n",
              "  </thead>\n",
              "  <tbody>\n",
              "    <tr>\n",
              "      <th>count</th>\n",
              "      <td>1.0</td>\n",
              "      <td>1.0</td>\n",
              "      <td>1.0</td>\n",
              "      <td>1.0</td>\n",
              "      <td>1.0</td>\n",
              "    </tr>\n",
              "    <tr>\n",
              "      <th>mean</th>\n",
              "      <td>176767.0</td>\n",
              "      <td>90.0</td>\n",
              "      <td>331268.0</td>\n",
              "      <td>0.0</td>\n",
              "      <td>12.0</td>\n",
              "    </tr>\n",
              "    <tr>\n",
              "      <th>std</th>\n",
              "      <td>NaN</td>\n",
              "      <td>NaN</td>\n",
              "      <td>NaN</td>\n",
              "      <td>NaN</td>\n",
              "      <td>NaN</td>\n",
              "    </tr>\n",
              "    <tr>\n",
              "      <th>min</th>\n",
              "      <td>176767.0</td>\n",
              "      <td>90.0</td>\n",
              "      <td>331268.0</td>\n",
              "      <td>0.0</td>\n",
              "      <td>12.0</td>\n",
              "    </tr>\n",
              "    <tr>\n",
              "      <th>25%</th>\n",
              "      <td>176767.0</td>\n",
              "      <td>90.0</td>\n",
              "      <td>331268.0</td>\n",
              "      <td>0.0</td>\n",
              "      <td>12.0</td>\n",
              "    </tr>\n",
              "    <tr>\n",
              "      <th>50%</th>\n",
              "      <td>176767.0</td>\n",
              "      <td>90.0</td>\n",
              "      <td>331268.0</td>\n",
              "      <td>0.0</td>\n",
              "      <td>12.0</td>\n",
              "    </tr>\n",
              "    <tr>\n",
              "      <th>75%</th>\n",
              "      <td>176767.0</td>\n",
              "      <td>90.0</td>\n",
              "      <td>331268.0</td>\n",
              "      <td>0.0</td>\n",
              "      <td>12.0</td>\n",
              "    </tr>\n",
              "    <tr>\n",
              "      <th>max</th>\n",
              "      <td>176767.0</td>\n",
              "      <td>90.0</td>\n",
              "      <td>331268.0</td>\n",
              "      <td>0.0</td>\n",
              "      <td>12.0</td>\n",
              "    </tr>\n",
              "  </tbody>\n",
              "</table>\n",
              "</div>"
            ],
            "text/plain": [
              "             id  minutes  contributor_id  n_steps  n_ingredients\n",
              "count       1.0      1.0             1.0      1.0            1.0\n",
              "mean   176767.0     90.0        331268.0      0.0           12.0\n",
              "std         NaN      NaN             NaN      NaN            NaN\n",
              "min    176767.0     90.0        331268.0      0.0           12.0\n",
              "25%    176767.0     90.0        331268.0      0.0           12.0\n",
              "50%    176767.0     90.0        331268.0      0.0           12.0\n",
              "75%    176767.0     90.0        331268.0      0.0           12.0\n",
              "max    176767.0     90.0        331268.0      0.0           12.0"
            ]
          },
          "metadata": {},
          "execution_count": 14
        }
      ]
    },
    {
      "cell_type": "code",
      "metadata": {
        "colab": {
          "base_uri": "https://localhost:8080/",
          "height": 185
        },
        "id": "OV1tnlWoo92a",
        "outputId": "f166dedb-4c54-4fb0-e67a-7bf0aaa99d05"
      },
      "source": [
        "n_steps_outliers_df.sample(1)"
      ],
      "execution_count": null,
      "outputs": [
        {
          "output_type": "execute_result",
          "data": {
            "text/html": [
              "<div>\n",
              "<style scoped>\n",
              "    .dataframe tbody tr th:only-of-type {\n",
              "        vertical-align: middle;\n",
              "    }\n",
              "\n",
              "    .dataframe tbody tr th {\n",
              "        vertical-align: top;\n",
              "    }\n",
              "\n",
              "    .dataframe thead th {\n",
              "        text-align: right;\n",
              "    }\n",
              "</style>\n",
              "<table border=\"1\" class=\"dataframe\">\n",
              "  <thead>\n",
              "    <tr style=\"text-align: right;\">\n",
              "      <th></th>\n",
              "      <th>name</th>\n",
              "      <th>id</th>\n",
              "      <th>minutes</th>\n",
              "      <th>contributor_id</th>\n",
              "      <th>submitted</th>\n",
              "      <th>tags</th>\n",
              "      <th>n_steps</th>\n",
              "      <th>steps</th>\n",
              "      <th>description</th>\n",
              "      <th>ingredients</th>\n",
              "      <th>n_ingredients</th>\n",
              "      <th>cal</th>\n",
              "      <th>totalFat</th>\n",
              "      <th>sugar</th>\n",
              "      <th>sodium</th>\n",
              "      <th>protein</th>\n",
              "      <th>satFat</th>\n",
              "      <th>carbs</th>\n",
              "    </tr>\n",
              "  </thead>\n",
              "  <tbody>\n",
              "    <tr>\n",
              "      <th>3381</th>\n",
              "      <td>all season bread</td>\n",
              "      <td>176767</td>\n",
              "      <td>90</td>\n",
              "      <td>331268</td>\n",
              "      <td>2006-07-10</td>\n",
              "      <td>['time-to-make', 'course', 'main-ingredient', ...</td>\n",
              "      <td>0</td>\n",
              "      <td>[]</td>\n",
              "      <td>just change the fruit/vegetable in this recipe...</td>\n",
              "      <td>['flour', 'baking soda', 'salt', 'baking powde...</td>\n",
              "      <td>12</td>\n",
              "      <td>198.8</td>\n",
              "      <td>11.0</td>\n",
              "      <td>70.0</td>\n",
              "      <td>18.0</td>\n",
              "      <td>5.0</td>\n",
              "      <td>5.0</td>\n",
              "      <td>10.0</td>\n",
              "    </tr>\n",
              "  </tbody>\n",
              "</table>\n",
              "</div>"
            ],
            "text/plain": [
              "                  name      id  minutes  ...  protein satFat  carbs\n",
              "3381  all season bread  176767       90  ...      5.0    5.0   10.0\n",
              "\n",
              "[1 rows x 18 columns]"
            ]
          },
          "metadata": {},
          "execution_count": 15
        }
      ]
    },
    {
      "cell_type": "code",
      "metadata": {
        "id": "cwdYWE6fvcDL"
      },
      "source": [
        "recipes_df = recipes_df.loc[recipes_df['n_steps'] > 0]"
      ],
      "execution_count": null,
      "outputs": []
    },
    {
      "cell_type": "markdown",
      "metadata": {
        "id": "w8y1rPgIWCLh"
      },
      "source": [
        "## `n_steps` box plot"
      ]
    },
    {
      "cell_type": "code",
      "metadata": {
        "colab": {
          "base_uri": "https://localhost:8080/",
          "height": 625
        },
        "id": "8Hi0lgsZSD5s",
        "outputId": "2abd92bd-bb85-46ca-9da6-99ce2f67ba5b"
      },
      "source": [
        "figure(figsize=(20, 10))\n",
        "y = list(range(0, 150, 5))\n",
        "recipes_df['n_steps'].plot(\n",
        "    kind='box', \n",
        "    title= 'n_steps distribution', \n",
        "    grid=True, \n",
        "    yticks= y)"
      ],
      "execution_count": null,
      "outputs": [
        {
          "output_type": "execute_result",
          "data": {
            "text/plain": [
              "<matplotlib.axes._subplots.AxesSubplot at 0x7fe5ea6ac9d0>"
            ]
          },
          "metadata": {},
          "execution_count": 17
        },
        {
          "output_type": "display_data",
          "data": {
            "image/png": "[encoded data removed]",
            "text/plain": [
              "<Figure size 1440x720 with 1 Axes>"
            ]
          },
          "metadata": {
            "needs_background": "light"
          }
        }
      ]
    },
    {
      "cell_type": "markdown",
      "metadata": {
        "id": "eKXfTvWRWMaV"
      },
      "source": [
        "##`n_ingredients` box plot"
      ]
    },
    {
      "cell_type": "code",
      "metadata": {
        "colab": {
          "base_uri": "https://localhost:8080/",
          "height": 625
        },
        "id": "mFc7wKo4WJ9r",
        "outputId": "d93dbc6e-c167-4ed3-82ec-db76c42e1e75"
      },
      "source": [
        "figure(figsize=(20, 10))\n",
        "y = list(range(0, 50, 5))\n",
        "recipes_df['n_ingredients'].plot(\n",
        "    kind='box', \n",
        "    title= 'n_ingredients distribution', \n",
        "    grid=True, \n",
        "    yticks=y)"
      ],
      "execution_count": null,
      "outputs": [
        {
          "output_type": "execute_result",
          "data": {
            "text/plain": [
              "<matplotlib.axes._subplots.AxesSubplot at 0x7fe5ea5a5050>"
            ]
          },
          "metadata": {},
          "execution_count": 18
        },
        {
          "output_type": "display_data",
          "data": {
            "image/png": "[encoded data removed]",
            "text/plain": [
              "<Figure size 1440x720 with 1 Axes>"
            ]
          },
          "metadata": {
            "needs_background": "light"
          }
        }
      ]
    },
    {
      "cell_type": "markdown",
      "metadata": {
        "id": "OII3j5XUX4be"
      },
      "source": [
        "## `minutes` boxplot"
      ]
    },
    {
      "cell_type": "code",
      "metadata": {
        "colab": {
          "base_uri": "https://localhost:8080/",
          "height": 624
        },
        "id": "NCEpbLi1ZUjz",
        "outputId": "f9a88178-82cf-41a8-f0a3-a05175cb89b0"
      },
      "source": [
        "figure(figsize=(20, 10))\n",
        "recipes_df['minutes'].plot(\n",
        "    kind='box', \n",
        "    title='minutes distribution', \n",
        "    grid=True, \n",
        "    logy=True)"
      ],
      "execution_count": null,
      "outputs": [
        {
          "output_type": "execute_result",
          "data": {
            "text/plain": [
              "<matplotlib.axes._subplots.AxesSubplot at 0x7fe5ea05f110>"
            ]
          },
          "metadata": {},
          "execution_count": 19
        },
        {
          "output_type": "display_data",
          "data": {
            "image/png": "[encoded data removed]",
            "text/plain": [
              "<Figure size 1440x720 with 1 Axes>"
            ]
          },
          "metadata": {
            "needs_background": "light"
          }
        }
      ]
    },
    {
      "cell_type": "markdown",
      "metadata": {
        "id": "zzjS7UlX5by5"
      },
      "source": [
        "## `tags` boxplot"
      ]
    },
    {
      "cell_type": "markdown",
      "metadata": {
        "id": "CcvjHGO9hynv"
      },
      "source": [
        "The tags provide additional information about a recipe and will come in handy when building an enbedding because of the information that they contain. It's therefore important that these tags are not only useful but that they convey information about the recipe."
      ]
    },
    {
      "cell_type": "code",
      "metadata": {
        "id": "xSH6irVmx6gs"
      },
      "source": [
        "# tags are stored as string values, we'll convert them to a list of lists\n",
        "tags_str = recipes_df['tags'].tolist()\n",
        "tags = [ast.literal_eval(t) for t in tags_str]"
      ],
      "execution_count": null,
      "outputs": []
    },
    {
      "cell_type": "code",
      "metadata": {
        "id": "o70ZmRy2f5rz"
      },
      "source": [
        "def get_tag_counts(tags):\n",
        "  # helper method that takes in a list of lists of tags and returns\n",
        "  # a dictionary with the tags as the keys and the values as the counts\n",
        "  tags_flattened = [t for lst in tags for t in lst]\n",
        "  tags_dict = dict.fromkeys(set(tags_flattened), 0)\n",
        "  \n",
        "  for t in tags_flattened:\n",
        "    tags_dict[t] += 1\n",
        "\n",
        "  return tags_dict"
      ],
      "execution_count": null,
      "outputs": []
    },
    {
      "cell_type": "code",
      "metadata": {
        "id": "uclnGi9MiNLT"
      },
      "source": [
        "tags_dict = get_tag_counts(tags)"
      ],
      "execution_count": null,
      "outputs": []
    },
    {
      "cell_type": "markdown",
      "metadata": {
        "id": "Wgx-gcE4jjKK"
      },
      "source": [
        "Let's explore the distribution of the count of the tags "
      ]
    },
    {
      "cell_type": "code",
      "metadata": {
        "colab": {
          "base_uri": "https://localhost:8080/",
          "height": 624
        },
        "id": "6AAZGGMajXe6",
        "outputId": "11be31cc-f0e6-4bc5-b266-1902b5c73abf"
      },
      "source": [
        "figure(figsize=(20, 10))\n",
        "pd.Series(tags_dict.values()).plot(\n",
        "    kind='box',\n",
        "    title='tags_count distribution',\n",
        "    grid=True,\n",
        "    logy=True\n",
        ")"
      ],
      "execution_count": null,
      "outputs": [
        {
          "output_type": "execute_result",
          "data": {
            "text/plain": [
              "<matplotlib.axes._subplots.AxesSubplot at 0x7fe5e9f1d350>"
            ]
          },
          "metadata": {},
          "execution_count": 23
        },
        {
          "output_type": "display_data",
          "data": {
            "image/png": "[encoded data removed]",
            "text/plain": [
              "<Figure size 1440x720 with 1 Axes>"
            ]
          },
          "metadata": {
            "needs_background": "light"
          }
        }
      ]
    },
    {
      "cell_type": "markdown",
      "metadata": {
        "id": "KuEL3ZKDhQJR"
      },
      "source": [
        "Upon inspection some of the tags used either did not make sense or did not convey a clear meaning. These were manually identified so we can remove them later."
      ]
    },
    {
      "cell_type": "code",
      "metadata": {
        "id": "_P4_JhUKnHuQ"
      },
      "source": [
        "tags_series = pd.Series(tags_dict).sort_values(ascending=False)"
      ],
      "execution_count": null,
      "outputs": []
    },
    {
      "cell_type": "code",
      "metadata": {
        "colab": {
          "base_uri": "https://localhost:8080/"
        },
        "id": "h1jjpDESnoL-",
        "outputId": "3c679384-83cf-44b9-e26e-53fe4611a18f"
      },
      "source": [
        "tags_series.head(30)"
      ],
      "execution_count": null,
      "outputs": [
        {
          "output_type": "execute_result",
          "data": {
            "text/plain": [
              "preparation           230545\n",
              "time-to-make          225325\n",
              "course                218147\n",
              "main-ingredient       170445\n",
              "dietary               165091\n",
              "easy                  126061\n",
              "occasion              114144\n",
              "cuisine                91164\n",
              "low-in-something       85776\n",
              "main-dish              71786\n",
              "equipment              70436\n",
              "60-minutes-or-less     69990\n",
              "number-of-servings     58948\n",
              "meat                   56042\n",
              "30-minutes-or-less     55077\n",
              "vegetables             53813\n",
              "taste-mood             52142\n",
              "4-hours-or-less        49496\n",
              "north-american         48478\n",
              "3-steps-or-less        44932\n",
              "15-minutes-or-less     43934\n",
              "low-sodium             43349\n",
              "desserts               43203\n",
              "low-carb               42189\n",
              "healthy                40340\n",
              "dinner-party           37561\n",
              "low-cholesterol        36743\n",
              "low-calorie            36429\n",
              "vegetarian             35651\n",
              "beginner-cook          35561\n",
              "dtype: int64"
            ]
          },
          "metadata": {},
          "execution_count": 25
        }
      ]
    },
    {
      "cell_type": "code",
      "metadata": {
        "colab": {
          "base_uri": "https://localhost:8080/"
        },
        "id": "lh38iVnRoZWy",
        "outputId": "82c33820-09cc-4c30-b1ed-3673195d8e67"
      },
      "source": [
        "tags_series.tail(50)"
      ],
      "execution_count": null,
      "outputs": [
        {
          "output_type": "execute_result",
          "data": {
            "text/plain": [
              "breakfast-eggs                                                           2\n",
              "side-dishes-beans                                                        2\n",
              "beans-side-dishes                                                        2\n",
              "heirloom-historical-recipes                                              2\n",
              "pasta-salad                                                              2\n",
              "spaghetti-sauce                                                          2\n",
              "pork-loin                                                                1\n",
              "baked-beans                                                              1\n",
              "pot-roast                                                                1\n",
              "chicken-stew                                                             1\n",
              "breakfast-potatoes                                                       1\n",
              "eggs-breakfast                                                           1\n",
              "cranberry-sauce                                                          1\n",
              "for-large-groups-holiday-event                                           1\n",
              "Throw the ultimate fiesta with this sopaipillas recipe from Food.com.    1\n",
              "shrimp-main-dish                                                         1\n",
              "snacks-sweet                                                             1\n",
              "beef-crock-pot                                                           1\n",
              "dips-summer                                                              1\n",
              "irish-st-patricks-day                                                    1\n",
              "roast-beef-comfort-food                                                  1\n",
              "beef-sauces                                                              1\n",
              "lasagne                                                                  1\n",
              "middle-eastern-main-dish                                                 1\n",
              "chicken-crock-pot                                                        1\n",
              "cabbage                                                                  1\n",
              "less_thansql:name_topics_of_recipegreater_than                           1\n",
              "pasta-rice-and-grains-elbow-macaroni                                     1\n",
              "marinara-sauce                                                           1\n",
              "pork-loins-roast                                                         1\n",
              "bread-pudding                                                            1\n",
              "main-dish-pasta                                                          1\n",
              "chicken-stews                                                            1\n",
              "pork-crock-pot                                                           1\n",
              "main-dish-seafood                                                        1\n",
              "roast-beef-main-dish                                                     1\n",
              "mushroom-soup                                                            1\n",
              "beef-barley-soup                                                         1\n",
              "lamb-sheep-main-dish                                                     1\n",
              "served-hot-new-years                                                     1\n",
              "high-in-something-diabetic-friendly                                      1\n",
              "stews-poultry                                                            1\n",
              "pumpkin-bread                                                            1\n",
              "desserts-fruit                                                           1\n",
              "breakfast-casseroles                                                     1\n",
              "bean-soup                                                                1\n",
              "desserts-easy                                                            1\n",
              "black-bean-soup                                                          1\n",
              "snacks-kid-friendly                                                      1\n",
              "ham-and-bean-soup                                                        1\n",
              "dtype: int64"
            ]
          },
          "metadata": {},
          "execution_count": 26
        }
      ]
    },
    {
      "cell_type": "code",
      "metadata": {
        "id": "1YBncS4-3sbe"
      },
      "source": [
        "TAGS_TO_REMOVE = {\n",
        "  'less_thansql:name_topics_of_recipegreater_than',\n",
        "  'Throw the ultimate fiesta with this sopaipillas recipe from Food.com.',\n",
        "  'presentation',\n",
        "  '',\n",
        "  'time-to-make',\n",
        "  'course',\n",
        "  'preparation',\n",
        "  'number-of-servings',\n",
        "  'equipment',\n",
        "  'taste-mood',\n",
        "  'main-ingredient',\n",
        "  'occasion',\n",
        "  'dietary',\n",
        "  'copycat',\n",
        "  'water-bath',\n",
        "  'cuisine',\n",
        "  'weeknight',\n",
        "  'novelty',\n",
        "  'technique',\n",
        "  'holiday-event',\n",
        "  'holiday',\n",
        "  'flat-shapes',\n",
        "  'free-of-something',\n",
        "  'high-in-something',\n",
        "  'low-in-something',\n",
        "  'ragu-recipe-contest',\n",
        "  'refrigerator',\n",
        "  'freezer',\n",
        "  'reynolds-wrap',\n",
        "  'small-appliance',\n",
        "  'pasta-rice-and-grains',\n",
        "  'celebrity',\n",
        "  'gifts',\n",
        "  'stocks',\n",
        "  'novelty',\n",
        "  'birthday',\n",
        "  'independence-day',\n",
        "  'no-shell-fish',\n",
        "  'heirloom-historical',\n",
        "  'heirloom-historical-recipes',\n",
        "  'brown-bag',\n",
        "  'egg-free',\n",
        "  'unprocessed-freezer',\n",
        "  'nut-free',\n",
        "  }"
      ],
      "execution_count": null,
      "outputs": []
    },
    {
      "cell_type": "code",
      "metadata": {
        "id": "WGUb-jJD-hPe"
      },
      "source": [
        "def remove_tag(tags):\n",
        "  tags = set(ast.literal_eval(tags))\n",
        "  for t in TAGS_TO_REMOVE:\n",
        "    if t in tags:\n",
        "      tags.remove(t)\n",
        "  return list(tags)"
      ],
      "execution_count": null,
      "outputs": []
    },
    {
      "cell_type": "code",
      "metadata": {
        "id": "aGVburBRAa71"
      },
      "source": [
        "cleaned_tags = recipes_df['tags'].apply(remove_tag)\n",
        "cleaned_recipes_df = recipes_df.copy()\n",
        "cleaned_recipes_df['tags'] = cleaned_tags"
      ],
      "execution_count": null,
      "outputs": []
    },
    {
      "cell_type": "code",
      "metadata": {
        "colab": {
          "base_uri": "https://localhost:8080/"
        },
        "id": "YG8QanI4BCCy",
        "outputId": "6d604e50-2c39-4a09-e4fe-b2fb03ba0480"
      },
      "source": [
        "cleaned_tags"
      ],
      "execution_count": null,
      "outputs": [
        {
          "output_type": "execute_result",
          "data": {
            "text/plain": [
              "0         [side-dishes, vegetarian, squash, vegetables, ...\n",
              "1         [north-american, pizza, meat, pork, oven, main...\n",
              "2         [main-dish, chili, crock-pot-slow-cooker, 4-ho...\n",
              "3         [side-dishes, potatoes, vegetables, christmas,...\n",
              "4         [vegetarian, vegetables, north-american, 4-hou...\n",
              "                                ...                        \n",
              "231632    [vegetables, north-american, 3-steps-or-less, ...\n",
              "231633    [vegetarian, condiments-etc, herb-and-spice-mi...\n",
              "231634    [eggs, finger-food, served-cold, eggs-dairy, 3...\n",
              "231635    [desserts, for-large-groups, high-calcium, han...\n",
              "231636    [desserts, for-large-groups, rolled-cookies, k...\n",
              "Name: tags, Length: 231636, dtype: object"
            ]
          },
          "metadata": {},
          "execution_count": 30
        }
      ]
    },
    {
      "cell_type": "markdown",
      "metadata": {
        "id": "rJzGZa5dFOPI"
      },
      "source": [
        "Now that we've cleaned the tags, let's explore the distribution once more and see if there are any significant changes"
      ]
    },
    {
      "cell_type": "code",
      "metadata": {
        "id": "6wniNySzFXyl"
      },
      "source": [
        "cleaned_tags_dict = get_tag_counts(cleaned_tags.tolist())"
      ],
      "execution_count": null,
      "outputs": []
    },
    {
      "cell_type": "code",
      "metadata": {
        "colab": {
          "base_uri": "https://localhost:8080/",
          "height": 624
        },
        "id": "1wfn-XunFWPu",
        "outputId": "336894b5-8b75-4f54-ecae-90d668bd7a9a"
      },
      "source": [
        "figure(figsize=(20, 10))\n",
        "pd.Series(cleaned_tags_dict.values()).plot(\n",
        "    kind='box',\n",
        "    title='cleaned tags_count distribution',\n",
        "    grid=True,\n",
        "    logy=True\n",
        ")"
      ],
      "execution_count": null,
      "outputs": [
        {
          "output_type": "execute_result",
          "data": {
            "text/plain": [
              "<matplotlib.axes._subplots.AxesSubplot at 0x7fe5d85adc90>"
            ]
          },
          "metadata": {},
          "execution_count": 32
        },
        {
          "output_type": "display_data",
          "data": {
            "image/png": "[encoded data removed]",
            "text/plain": [
              "<Figure size 1440x720 with 1 Axes>"
            ]
          },
          "metadata": {
            "needs_background": "light"
          }
        }
      ]
    },
    {
      "cell_type": "markdown",
      "metadata": {
        "id": "6Jq8JnNGF62f"
      },
      "source": [
        "Not much significant change observed overall"
      ]
    },
    {
      "cell_type": "markdown",
      "metadata": {
        "id": "L6_vLdPOrN5o"
      },
      "source": [
        "Let's also look at the distiribution of the number of tags per recipe"
      ]
    },
    {
      "cell_type": "code",
      "metadata": {
        "colab": {
          "base_uri": "https://localhost:8080/",
          "height": 624
        },
        "id": "VM5DjDSzrSn7",
        "outputId": "51224d93-de73-48b8-a604-9ba869c26a16"
      },
      "source": [
        "figure(figsize=(20, 10))\n",
        "tags_count = recipes_df['tags'].apply(lambda l: len(l))\n",
        "tags_count.plot(\n",
        "    kind='box',\n",
        "    title='tags_count_per_recipe distribution',\n",
        "    grid=True,\n",
        ")"
      ],
      "execution_count": null,
      "outputs": [
        {
          "output_type": "execute_result",
          "data": {
            "text/plain": [
              "<matplotlib.axes._subplots.AxesSubplot at 0x7fe5cb4eda50>"
            ]
          },
          "metadata": {},
          "execution_count": 33
        },
        {
          "output_type": "display_data",
          "data": {
            "image/png": "[encoded data removed]",
            "text/plain": [
              "<Figure size 1440x720 with 1 Axes>"
            ]
          },
          "metadata": {
            "needs_background": "light"
          }
        }
      ]
    },
    {
      "cell_type": "code",
      "metadata": {
        "id": "mR-1-SnmVuzQ"
      },
      "source": [
        "MAPPING = {\n",
        "  'healthy-2': ['healthy'],\n",
        "  'crusts-pastry-dough-2': ['pastry-dough'],\n",
        "  'crock-pot-main-dish':  ['crock-pot', 'main-dish'],\n",
        "  'crock-pot-slow-cooker': ['crock-pot', 'slow-cooker'],\n",
        "  'cookies-and-brownies': ['cookies', 'brownies'],\n",
        "  'condiments-etc': ['condiments'],\n",
        "  'cobblers-and-crips': ['cobblers', 'crisps'],\n",
        "  'clear-soups': ['clear-soup', 'soup'],\n",
        "  'chocolate-chip-cookies': ['chocolate-chip-cookies', 'cookies'],\n",
        "  'cookies-and-brownies': ['cookies', 'brownies'],\n",
        "  'drop-cookies': ['drop-cookies', 'cookies'],\n",
        "  'savory-sauces': ['savory', 'sauce'],\n",
        "  'baked-beans': ['baked-beans', 'beans'],\n",
        "  'chicken-stews': ['chicken', 'stew'],\n",
        "  'chicken-stew': ['chicken', 'stew'],\n",
        "  'chicken-crockpot': ['chicken', 'crock-pot'],\n",
        "  'cabbage': ['cabbage', 'vegetables'],\n",
        "  'breakfast-potatoes': ['breakfast', 'potatoes'],\n",
        "  'breakfast-eggs': ['breakfast', 'eggs'],\n",
        "  'breakfast-casseroles': ['breakfast', 'casserole'],\n",
        "  'casseroles': ['casserole'],\n",
        "  'breads': ['bread'],\n",
        "  'bread-pudding': ['bread', 'pudding'],\n",
        "  'bread-machine': ['bread'],\n",
        "  'bok-choys': ['bok-choy'],\n",
        "  'black-bean-soup': ['black-beans', 'soup', 'beans'],\n",
        "  'bisques-cream-soups': ['bisque', 'soup', 'cream-soup'],\n",
        "  'beverages': ['beverage'],\n",
        "  'beginner-cook': ['beginner'],\n",
        "  'beef-sauces': ['beef', 'sauce'],\n",
        "  'beef-organ-meats': ['beef'],\n",
        "  'beef-crock-pot': ['crock-pot', 'beef'],\n",
        "  'beef-barley-soup': ['beef', 'barley', 'soup'],\n",
        "  'beans-side-dishes': ['beans', 'side-dish'],\n",
        "  'side-dishes': ['side-dish'],\n",
        "  'bean-soup': ['beans', 'soup'],\n",
        "  'baked-beans': ['beans', 'baked-beans'],\n",
        "  'appetizers': ['appetizer'],\n",
        "  'desserts-fruit': ['dessert', 'fruit'],\n",
        "  'desserts': ['dessert'],\n",
        "  'dessert-easy': ['dessert', 'easy'],\n",
        "  'dehydrator': ['dehydrated'],\n",
        "  'high-in-something-diabetic-friendly': ['diabetic'],\n",
        "  'condiments-etc': ['condiments'],\n",
        "  'desserts-fruit': ['desserts', 'fruit'],\n",
        "  'desserts-easy': ['desserts', 'easy'],\n",
        "  'dips-lunch-snacks': ['dips', 'lunch', 'snacks'],\n",
        "  'dips-summer': ['dips', 'summer'],\n",
        "  'duck-breasts': ['duck'],\n",
        "  'eggs-breakfast': ['eggs', 'breakfast'],\n",
        "  'eggs-dairy': ['eggs', 'dairy'],\n",
        "  'fillings-and-frostings-chocolate': ['chocolate'],\n",
        "  'for-large-groups-holiday-event': ['for-large-groups'],\n",
        "  'goose': ['poultry'],\n",
        "  'granola-and-porridge': ['granola', 'porridge'],\n",
        "  'halloween-cakes': ['halloween', 'cakes'],\n",
        "  'halloween-cocktails': ['halloween', 'cocktails'],\n",
        "  'halloween-cupcakes': ['halloween', 'cupcakes'],\n",
        "  'ham-and-bean-soup': ['ham', 'beans', 'soup'],\n",
        "  'drop-cookies': ['cookies', 'drop-cookies'],\n",
        "  'hand-formed-cookies': ['cookies', 'hand-formed-cookies'],\n",
        "  'heirloom-historical-recipes': ['heirloom-historical'],\n",
        "  'irish-st-patricks-day': ['irish', 'st-patricks-day'],\n",
        "  'jewish-ashkenazi': ['jewish'],\n",
        "  'jewish-sephardi': ['jewish'],\n",
        "  'passover': ['jewish', 'passover'],\n",
        "  'kosher': ['jewish', 'kosher'],\n",
        "  'lamb-sheep-main-dish': ['lamb', 'main-dish'],\n",
        "  'lasagne': ['lasagna'],\n",
        "  'main-dish-beef': ['main-dish', 'beef'],\n",
        "  'main-dish-chicken': ['main-dish', 'chicken'],\n",
        "  'main-dish-pasta': ['main-dish', 'pasta'],\n",
        "  'main-dish-pork': ['main-dish', 'pork'],\n",
        "  'main-dish-seafood': ['main-dish', 'seafood'],\n",
        "  'mashed-potatoes': ['mashed-potatoes', 'potatoes'],\n",
        "  'middle-eastern-main-dish': ['middle-eastern', 'main-dish'],\n",
        "  'mushroom-soup': ['mushrooms', 'soup'],\n",
        "  'pasta-elbow-macaroni': ['pasta', 'elbow-macaroni'],\n",
        "  'pasta-rice-and-grains-elbow-macaroni': ['pasta', 'elbow-macaroni'],\n",
        "  'pasta-salad': ['pasta', 'salad'],\n",
        "  'pork-crock-pot': ['pork', 'crock-pot'],\n",
        "  'pies-and-tarts': ['pies', 'tarts'],\n",
        "  'pancakes-and-waffles': ['pancakes', 'waffles'],\n",
        "  'quick-breads': ['quick-bread', 'bread'],\n",
        "  'pork-loins': ['pork-loin'],\n",
        "  'pork-loins-roast': ['pork-loin', 'roast'],\n",
        "  'prepared-potatoes': ['potatoes'],\n",
        "  'pumpkin-bread': ['pumpkin', 'bread'],\n",
        "  'quick-breads': ['bread'],\n",
        "  'food-processor-blender': ['food-processor', 'blender'],\n",
        "  'roast-beef-comfort-food': ['roast-beef', 'comfort-food', 'roast'],\n",
        "  'roast-beef-main-dish': ['roast-beef', 'main-dish', 'roast'],\n",
        "  'rolled-cookies': ['rolled-cookies', 'cookies'],\n",
        "  'rosh-hashanah': ['rosh-hashana'],\n",
        "  'served-hot-new-years': ['served-hot', 'new-years'],\n",
        "  'shrimp-main-dish': ['shrimp', 'main-dish'],\n",
        "  'side-dishes-beans': ['side-dishes', 'beans'],\n",
        "  'simply-potatoes': ['potatoes'],\n",
        "  'simply-potatoes2': ['potatoes'],\n",
        "  'snacks-kid-friendly': ['snacks', 'kid-friendly'],\n",
        "  'snacks-sweet': ['snacks'],\n",
        "  'soups-stews': ['soups', 'stews'],\n",
        "  'spahgetti-sauce': ['spaghetti', 'sauce'],\n",
        "  'steaks': ['steak'],\n",
        "  'stews-poultry': ['stews', 'poultry'],\n",
        "  'stuffings-dressing': ['stuffings', 'dressing'],\n",
        "  'sugar-cookies': ['cookies'],\n",
        "  'superbowl': ['super-bowl'],\n",
        "  'turkey-breasts': ['turkey'],\n",
        "  'turkey-burgers': ['turkey', 'burgers'],\n",
        "  'veggie-burgers': ['vegetables', 'burgers'],\n",
        "  'very-low-carbs': ['keto'],\n",
        "  'yams-sweet-potatoes': ['yams', 'sweet-potatoes'],\n",
        "  'salad-dressings': ['salad-dressing'],\n",
        "  'rolls-biscuits': ['rolls', 'biscuits'],\n",
        "  'puddings-and-mousses': ['puddings', 'mousses'],\n",
        "  'pitted-fruit': ['pitted-fruit', 'fruit'],\n",
        "  'orange-roughy': ['fish', 'orange-roughy'],\n",
        "  'omelets-and frittata': ['omelets', 'frittatas'],\n",
        "  'oamc-freezer-make-ahead': ['oamc'],\n",
        "  'kiwifruit': ['kiwi', 'fruit'],\n",
        "  'ontario': ['canadian'],\n",
        "  'quebec': ['canadian'],\n",
        "  'iranian-persian': ['iranian', 'persian'],\n",
        "  'herb-and-spice-mixes': ['herbs-and-spice-mix'],\n",
        "  'inexpensive': ['cheap'],\n",
        "  'pork-ribs': ['pork-ribs', 'ribs', 'pork'],\n",
        "  'beef-ribs': ['beef-ribs', 'beef', 'ribs'],\n",
        "  'soy-tofu': ['soy', 'tofu', 'soy-tofu'],\n",
        "  'dairy-free': ['lactose'],\n",
        "  'whole-turkey': ['turkey', 'whole-turkey'],\n",
        "  'whole-chicken': ['chicken', 'whole-chicken'],\n",
        "  'whole-duck': ['duck', 'whole-duck'],\n",
        "  'marinades-and-rubs': ['marinades', 'rubs'],\n",
        "  'cake-fillings-and-frostings': ['cake-filling', 'frosting'],\n",
        "  'sole-and-flounder': ['sole', 'flounder']\n",
        "}"
      ],
      "execution_count": null,
      "outputs": []
    },
    {
      "cell_type": "code",
      "metadata": {
        "id": "VLd005Lpa4b3"
      },
      "source": [
        "def map_tags(lst):\n",
        "  new_tags = []\n",
        "  for tag in lst:\n",
        "    if tag in MAPPING:\n",
        "      new_tags += MAPPING[tag]\n",
        "    else:\n",
        "      new_tags += [tag]\n",
        "  \n",
        "  return new_tags\n",
        "\n",
        "\n",
        "def remove_tags(lst):\n",
        "  new_tags = []\n",
        "  for tag in lst:\n",
        "    if tag not in TAGS_TO_REMOVE:\n",
        "      new_tags += [tag]\n",
        "  \n",
        "  return new_tags"
      ],
      "execution_count": null,
      "outputs": []
    },
    {
      "cell_type": "code",
      "metadata": {
        "colab": {
          "base_uri": "https://localhost:8080/",
          "height": 434
        },
        "id": "Ce2wlrBuvy2-",
        "outputId": "ebb63f3e-a7f2-44c8-8c65-a55e214296d2"
      },
      "source": [
        "cleaned_recipes_df.head(3)"
      ],
      "execution_count": null,
      "outputs": [
        {
          "output_type": "execute_result",
          "data": {
            "text/html": [
              "<div>\n",
              "<style scoped>\n",
              "    .dataframe tbody tr th:only-of-type {\n",
              "        vertical-align: middle;\n",
              "    }\n",
              "\n",
              "    .dataframe tbody tr th {\n",
              "        vertical-align: top;\n",
              "    }\n",
              "\n",
              "    .dataframe thead th {\n",
              "        text-align: right;\n",
              "    }\n",
              "</style>\n",
              "<table border=\"1\" class=\"dataframe\">\n",
              "  <thead>\n",
              "    <tr style=\"text-align: right;\">\n",
              "      <th></th>\n",
              "      <th>name</th>\n",
              "      <th>id</th>\n",
              "      <th>minutes</th>\n",
              "      <th>contributor_id</th>\n",
              "      <th>submitted</th>\n",
              "      <th>tags</th>\n",
              "      <th>n_steps</th>\n",
              "      <th>steps</th>\n",
              "      <th>description</th>\n",
              "      <th>ingredients</th>\n",
              "      <th>n_ingredients</th>\n",
              "      <th>cal</th>\n",
              "      <th>totalFat</th>\n",
              "      <th>sugar</th>\n",
              "      <th>sodium</th>\n",
              "      <th>protein</th>\n",
              "      <th>satFat</th>\n",
              "      <th>carbs</th>\n",
              "    </tr>\n",
              "  </thead>\n",
              "  <tbody>\n",
              "    <tr>\n",
              "      <th>0</th>\n",
              "      <td>arriba   baked winter squash mexican style</td>\n",
              "      <td>137739</td>\n",
              "      <td>55</td>\n",
              "      <td>47892</td>\n",
              "      <td>2005-09-16</td>\n",
              "      <td>[side-dishes, vegetarian, squash, vegetables, ...</td>\n",
              "      <td>11</td>\n",
              "      <td>['make a choice and proceed with recipe', 'dep...</td>\n",
              "      <td>autumn is my favorite time of year to cook! th...</td>\n",
              "      <td>['winter squash', 'mexican seasoning', 'mixed ...</td>\n",
              "      <td>7</td>\n",
              "      <td>51.5</td>\n",
              "      <td>0.0</td>\n",
              "      <td>13.0</td>\n",
              "      <td>0.0</td>\n",
              "      <td>2.0</td>\n",
              "      <td>0.0</td>\n",
              "      <td>4.0</td>\n",
              "    </tr>\n",
              "    <tr>\n",
              "      <th>1</th>\n",
              "      <td>a bit different  breakfast pizza</td>\n",
              "      <td>31490</td>\n",
              "      <td>30</td>\n",
              "      <td>26278</td>\n",
              "      <td>2002-06-17</td>\n",
              "      <td>[north-american, pizza, meat, pork, oven, main...</td>\n",
              "      <td>9</td>\n",
              "      <td>['preheat oven to 425 degrees f', 'press dough...</td>\n",
              "      <td>this recipe calls for the crust to be prebaked...</td>\n",
              "      <td>['prepared pizza crust', 'sausage patty', 'egg...</td>\n",
              "      <td>6</td>\n",
              "      <td>173.4</td>\n",
              "      <td>18.0</td>\n",
              "      <td>0.0</td>\n",
              "      <td>17.0</td>\n",
              "      <td>22.0</td>\n",
              "      <td>35.0</td>\n",
              "      <td>1.0</td>\n",
              "    </tr>\n",
              "    <tr>\n",
              "      <th>2</th>\n",
              "      <td>all in the kitchen  chili</td>\n",
              "      <td>112140</td>\n",
              "      <td>130</td>\n",
              "      <td>196586</td>\n",
              "      <td>2005-02-25</td>\n",
              "      <td>[main-dish, chili, crock-pot-slow-cooker, 4-ho...</td>\n",
              "      <td>6</td>\n",
              "      <td>['brown ground beef in large pot', 'add choppe...</td>\n",
              "      <td>this modified version of 'mom's' chili was a h...</td>\n",
              "      <td>['ground beef', 'yellow onions', 'diced tomato...</td>\n",
              "      <td>13</td>\n",
              "      <td>269.8</td>\n",
              "      <td>22.0</td>\n",
              "      <td>32.0</td>\n",
              "      <td>48.0</td>\n",
              "      <td>39.0</td>\n",
              "      <td>27.0</td>\n",
              "      <td>5.0</td>\n",
              "    </tr>\n",
              "  </tbody>\n",
              "</table>\n",
              "</div>"
            ],
            "text/plain": [
              "                                         name      id  ...  satFat  carbs\n",
              "0  arriba   baked winter squash mexican style  137739  ...     0.0    4.0\n",
              "1            a bit different  breakfast pizza   31490  ...    35.0    1.0\n",
              "2                   all in the kitchen  chili  112140  ...    27.0    5.0\n",
              "\n",
              "[3 rows x 18 columns]"
            ]
          },
          "metadata": {},
          "execution_count": 36
        }
      ]
    },
    {
      "cell_type": "code",
      "metadata": {
        "id": "mx7T2L3Dv2Kd"
      },
      "source": [
        "cleaned_recipes_df['tags'] = cleaned_recipes_df['tags'].apply(remove_tags)"
      ],
      "execution_count": null,
      "outputs": []
    },
    {
      "cell_type": "code",
      "metadata": {
        "id": "1hrI1qM7wF8L"
      },
      "source": [
        "cleaned_recipes_df['tags'] = cleaned_recipes_df['tags'].apply(map_tags)"
      ],
      "execution_count": null,
      "outputs": []
    },
    {
      "cell_type": "code",
      "metadata": {
        "colab": {
          "base_uri": "https://localhost:8080/",
          "height": 451
        },
        "id": "Jgh4NTrswap3",
        "outputId": "879097a5-57e0-4c55-bd04-fc6f432feb0b"
      },
      "source": [
        "cleaned_recipes_df.sample(3)"
      ],
      "execution_count": null,
      "outputs": [
        {
          "output_type": "execute_result",
          "data": {
            "text/html": [
              "<div>\n",
              "<style scoped>\n",
              "    .dataframe tbody tr th:only-of-type {\n",
              "        vertical-align: middle;\n",
              "    }\n",
              "\n",
              "    .dataframe tbody tr th {\n",
              "        vertical-align: top;\n",
              "    }\n",
              "\n",
              "    .dataframe thead th {\n",
              "        text-align: right;\n",
              "    }\n",
              "</style>\n",
              "<table border=\"1\" class=\"dataframe\">\n",
              "  <thead>\n",
              "    <tr style=\"text-align: right;\">\n",
              "      <th></th>\n",
              "      <th>name</th>\n",
              "      <th>id</th>\n",
              "      <th>minutes</th>\n",
              "      <th>contributor_id</th>\n",
              "      <th>submitted</th>\n",
              "      <th>tags</th>\n",
              "      <th>n_steps</th>\n",
              "      <th>steps</th>\n",
              "      <th>description</th>\n",
              "      <th>ingredients</th>\n",
              "      <th>n_ingredients</th>\n",
              "      <th>cal</th>\n",
              "      <th>totalFat</th>\n",
              "      <th>sugar</th>\n",
              "      <th>sodium</th>\n",
              "      <th>protein</th>\n",
              "      <th>satFat</th>\n",
              "      <th>carbs</th>\n",
              "    </tr>\n",
              "  </thead>\n",
              "  <tbody>\n",
              "    <tr>\n",
              "      <th>187898</th>\n",
              "      <td>six layer bars</td>\n",
              "      <td>136406</td>\n",
              "      <td>40</td>\n",
              "      <td>36187</td>\n",
              "      <td>2005-09-06</td>\n",
              "      <td>[dessert, for-large-groups, 60-minutes-or-less]</td>\n",
              "      <td>10</td>\n",
              "      <td>['preheat oven to 350f', 'combine graham crack...</td>\n",
              "      <td>all good things mixed into one.  prep time doe...</td>\n",
              "      <td>['graham cracker crumbs', 'fruit filling', 'bu...</td>\n",
              "      <td>8</td>\n",
              "      <td>187.8</td>\n",
              "      <td>18.0</td>\n",
              "      <td>59.0</td>\n",
              "      <td>4.0</td>\n",
              "      <td>5.0</td>\n",
              "      <td>36.0</td>\n",
              "      <td>6.0</td>\n",
              "    </tr>\n",
              "    <tr>\n",
              "      <th>164957</th>\n",
              "      <td>potato salad with capers  kalamata olives and ...</td>\n",
              "      <td>221292</td>\n",
              "      <td>30</td>\n",
              "      <td>47892</td>\n",
              "      <td>2007-04-07</td>\n",
              "      <td>[summer, potatoes, vegetarian, vegan, vegetabl...</td>\n",
              "      <td>13</td>\n",
              "      <td>['in a large pot of boiling water cook the pot...</td>\n",
              "      <td>from our local newspaper. use any thin skinned...</td>\n",
              "      <td>['red potatoes', 'vegetable broth', 'fresh ita...</td>\n",
              "      <td>12</td>\n",
              "      <td>178.7</td>\n",
              "      <td>15.0</td>\n",
              "      <td>6.0</td>\n",
              "      <td>6.0</td>\n",
              "      <td>5.0</td>\n",
              "      <td>7.0</td>\n",
              "      <td>6.0</td>\n",
              "    </tr>\n",
              "    <tr>\n",
              "      <th>47470</th>\n",
              "      <td>chili bean cheese omelet</td>\n",
              "      <td>384098</td>\n",
              "      <td>15</td>\n",
              "      <td>383853</td>\n",
              "      <td>2009-08-04</td>\n",
              "      <td>[eggs, for-1-or-2, omelets-and-frittatas, eggs...</td>\n",
              "      <td>12</td>\n",
              "      <td>['in a skillet , saute the tomato , onion , be...</td>\n",
              "      <td>i found this recipe in an old edition of taste...</td>\n",
              "      <td>['tomatoes', 'green onion', 'canned kidney bea...</td>\n",
              "      <td>11</td>\n",
              "      <td>387.3</td>\n",
              "      <td>39.0</td>\n",
              "      <td>18.0</td>\n",
              "      <td>46.0</td>\n",
              "      <td>46.0</td>\n",
              "      <td>40.0</td>\n",
              "      <td>5.0</td>\n",
              "    </tr>\n",
              "  </tbody>\n",
              "</table>\n",
              "</div>"
            ],
            "text/plain": [
              "                                                     name      id  ...  satFat  carbs\n",
              "187898                                     six layer bars  136406  ...    36.0    6.0\n",
              "164957  potato salad with capers  kalamata olives and ...  221292  ...     7.0    6.0\n",
              "47470                            chili bean cheese omelet  384098  ...    40.0    5.0\n",
              "\n",
              "[3 rows x 18 columns]"
            ]
          },
          "metadata": {},
          "execution_count": 39
        }
      ]
    },
    {
      "cell_type": "code",
      "metadata": {
        "id": "_0KNRZW2oXMH"
      },
      "source": [
        "to_lst = lambda lst: ast.literal_eval(lst)\n",
        "\n",
        "def get_all_ingredients(lst, ingrs_dict):\n",
        "  for ingr in lst:\n",
        "    ingrs_dict[ingr] += 1\n",
        "\n",
        "def get_all_tags(lst, tags_dict):\n",
        "  for tag in lst:\n",
        "    tags_dict[tag] += 1"
      ],
      "execution_count": null,
      "outputs": []
    },
    {
      "cell_type": "code",
      "metadata": {
        "colab": {
          "base_uri": "https://localhost:8080/",
          "height": 615
        },
        "id": "hiD0Uc3MsQpz",
        "outputId": "90b75e4b-0420-486b-b161-f9948cf17730"
      },
      "source": [
        "cleaned_recipes_df['ingredients'] = cleaned_recipes_df['ingredients'].apply(to_lst)\n",
        "cleaned_recipes_df.sample(5)"
      ],
      "execution_count": null,
      "outputs": [
        {
          "output_type": "execute_result",
          "data": {
            "text/html": [
              "<div>\n",
              "<style scoped>\n",
              "    .dataframe tbody tr th:only-of-type {\n",
              "        vertical-align: middle;\n",
              "    }\n",
              "\n",
              "    .dataframe tbody tr th {\n",
              "        vertical-align: top;\n",
              "    }\n",
              "\n",
              "    .dataframe thead th {\n",
              "        text-align: right;\n",
              "    }\n",
              "</style>\n",
              "<table border=\"1\" class=\"dataframe\">\n",
              "  <thead>\n",
              "    <tr style=\"text-align: right;\">\n",
              "      <th></th>\n",
              "      <th>name</th>\n",
              "      <th>id</th>\n",
              "      <th>minutes</th>\n",
              "      <th>contributor_id</th>\n",
              "      <th>submitted</th>\n",
              "      <th>tags</th>\n",
              "      <th>n_steps</th>\n",
              "      <th>steps</th>\n",
              "      <th>description</th>\n",
              "      <th>ingredients</th>\n",
              "      <th>n_ingredients</th>\n",
              "      <th>cal</th>\n",
              "      <th>totalFat</th>\n",
              "      <th>sugar</th>\n",
              "      <th>sodium</th>\n",
              "      <th>protein</th>\n",
              "      <th>satFat</th>\n",
              "      <th>carbs</th>\n",
              "    </tr>\n",
              "  </thead>\n",
              "  <tbody>\n",
              "    <tr>\n",
              "      <th>139383</th>\n",
              "      <td>moroccan lamb shank with couscous</td>\n",
              "      <td>441037</td>\n",
              "      <td>190</td>\n",
              "      <td>1712122</td>\n",
              "      <td>2010-11-02</td>\n",
              "      <td>[for-1-or-2, main-dish, pasta, moroccan, meat,...</td>\n",
              "      <td>22</td>\n",
              "      <td>['mix ground cumin , coriander , paprika and f...</td>\n",
              "      <td>this lamb shank dish is a winter staple in my ...</td>\n",
              "      <td>[lamb shanks, tomatoes, ground cumin, ground c...</td>\n",
              "      <td>19</td>\n",
              "      <td>1381.8</td>\n",
              "      <td>73.0</td>\n",
              "      <td>195.0</td>\n",
              "      <td>23.0</td>\n",
              "      <td>190.0</td>\n",
              "      <td>79.0</td>\n",
              "      <td>47.0</td>\n",
              "    </tr>\n",
              "    <tr>\n",
              "      <th>211145</th>\n",
              "      <td>the  perfect  pasta primavera</td>\n",
              "      <td>52494</td>\n",
              "      <td>120</td>\n",
              "      <td>60231</td>\n",
              "      <td>2003-01-28</td>\n",
              "      <td>[vegetables, pasta, low-saturated-fat, spring,...</td>\n",
              "      <td>11</td>\n",
              "      <td>['stem or blanch the various vegetables as ind...</td>\n",
              "      <td>courtesy of ms. jane brody and her good food c...</td>\n",
              "      <td>[broccoli floret, asparagus, sugar snap peas, ...</td>\n",
              "      <td>19</td>\n",
              "      <td>581.5</td>\n",
              "      <td>18.0</td>\n",
              "      <td>26.0</td>\n",
              "      <td>15.0</td>\n",
              "      <td>51.0</td>\n",
              "      <td>22.0</td>\n",
              "      <td>32.0</td>\n",
              "    </tr>\n",
              "    <tr>\n",
              "      <th>37907</th>\n",
              "      <td>caution  extremely hot  salsa</td>\n",
              "      <td>36578</td>\n",
              "      <td>15</td>\n",
              "      <td>44372</td>\n",
              "      <td>2002-08-09</td>\n",
              "      <td>[vegetarian, vegetables, north-american, food-...</td>\n",
              "      <td>6</td>\n",
              "      <td>['put peppers , onion , garlic , cilantro and ...</td>\n",
              "      <td>this is not for the faint of heart! it is very...</td>\n",
              "      <td>[jalapenos, habaneros, onion, garlic cloves, c...</td>\n",
              "      <td>12</td>\n",
              "      <td>352.0</td>\n",
              "      <td>43.0</td>\n",
              "      <td>44.0</td>\n",
              "      <td>0.0</td>\n",
              "      <td>9.0</td>\n",
              "      <td>19.0</td>\n",
              "      <td>8.0</td>\n",
              "    </tr>\n",
              "    <tr>\n",
              "      <th>156302</th>\n",
              "      <td>peanut butter tastykake   copycat</td>\n",
              "      <td>318940</td>\n",
              "      <td>35</td>\n",
              "      <td>635942</td>\n",
              "      <td>2008-08-12</td>\n",
              "      <td>[dessert, for-large-groups, 60-minutes-or-less...</td>\n",
              "      <td>11</td>\n",
              "      <td>['preheat oven to 350 degrees', 'using small s...</td>\n",
              "      <td>mmmmm, moist cake, peanut butter and chocolate...</td>\n",
              "      <td>[milk, butter, flour, sugar, eggs, baking powd...</td>\n",
              "      <td>9</td>\n",
              "      <td>272.3</td>\n",
              "      <td>19.0</td>\n",
              "      <td>92.0</td>\n",
              "      <td>8.0</td>\n",
              "      <td>14.0</td>\n",
              "      <td>20.0</td>\n",
              "      <td>11.0</td>\n",
              "    </tr>\n",
              "    <tr>\n",
              "      <th>84384</th>\n",
              "      <td>fish n lentil chowder  dal machh</td>\n",
              "      <td>353357</td>\n",
              "      <td>60</td>\n",
              "      <td>1150638</td>\n",
              "      <td>2009-02-02</td>\n",
              "      <td>[cheap, gluten-free, asian, 60-minutes-or-less...</td>\n",
              "      <td>8</td>\n",
              "      <td>['lightly fry fish heads in 2 tbsp oil and kee...</td>\n",
              "      <td>it's a warm blend of steaming green gram lenti...</td>\n",
              "      <td>[fish head, lentils, turmeric, fenugreek seeds...</td>\n",
              "      <td>13</td>\n",
              "      <td>36.0</td>\n",
              "      <td>0.0</td>\n",
              "      <td>8.0</td>\n",
              "      <td>0.0</td>\n",
              "      <td>4.0</td>\n",
              "      <td>0.0</td>\n",
              "      <td>2.0</td>\n",
              "    </tr>\n",
              "  </tbody>\n",
              "</table>\n",
              "</div>"
            ],
            "text/plain": [
              "                                     name      id  ...  satFat  carbs\n",
              "139383  moroccan lamb shank with couscous  441037  ...    79.0   47.0\n",
              "211145      the  perfect  pasta primavera   52494  ...    22.0   32.0\n",
              "37907       caution  extremely hot  salsa   36578  ...    19.0    8.0\n",
              "156302  peanut butter tastykake   copycat  318940  ...    20.0   11.0\n",
              "84384    fish n lentil chowder  dal machh  353357  ...     0.0    2.0\n",
              "\n",
              "[5 rows x 18 columns]"
            ]
          },
          "metadata": {},
          "execution_count": 41
        }
      ]
    },
    {
      "cell_type": "code",
      "metadata": {
        "colab": {
          "base_uri": "https://localhost:8080/"
        },
        "id": "NAbaBAAFqs5k",
        "outputId": "1dcd9059-66e8-4099-d52d-191c0d770d64"
      },
      "source": [
        "ingrs_dict = defaultdict(lambda : 0)\n",
        "tags_dict = defaultdict(lambda : 0)\n",
        "cleaned_recipes_df['ingredients'].apply(get_all_ingredients, ingrs_dict=ingrs_dict)\n",
        "cleaned_recipes_df['tags'].apply(get_all_tags, tags_dict=tags_dict)"
      ],
      "execution_count": null,
      "outputs": [
        {
          "output_type": "execute_result",
          "data": {
            "text/plain": [
              "0         None\n",
              "1         None\n",
              "2         None\n",
              "3         None\n",
              "4         None\n",
              "          ... \n",
              "231632    None\n",
              "231633    None\n",
              "231634    None\n",
              "231635    None\n",
              "231636    None\n",
              "Name: tags, Length: 231636, dtype: object"
            ]
          },
          "metadata": {},
          "execution_count": 42
        }
      ]
    },
    {
      "cell_type": "code",
      "metadata": {
        "colab": {
          "base_uri": "https://localhost:8080/",
          "height": 624
        },
        "id": "NBbxGGYorHBU",
        "outputId": "8be9c507-07ff-4324-9a9d-065b294fd0d1"
      },
      "source": [
        "figure(figsize=(20, 10))\n",
        "pd.Series(ingrs_dict.values()).plot(\n",
        "    kind='box',\n",
        "    title='ingredients distribution',\n",
        "    grid=True,\n",
        "    logy=True\n",
        ")"
      ],
      "execution_count": null,
      "outputs": [
        {
          "output_type": "execute_result",
          "data": {
            "text/plain": [
              "<matplotlib.axes._subplots.AxesSubplot at 0x7fe5cb12d690>"
            ]
          },
          "metadata": {},
          "execution_count": 43
        },
        {
          "output_type": "display_data",
          "data": {
            "image/png": "[encoded data removed]",
            "text/plain": [
              "<Figure size 1440x720 with 1 Axes>"
            ]
          },
          "metadata": {
            "needs_background": "light"
          }
        }
      ]
    },
    {
      "cell_type": "code",
      "metadata": {
        "id": "Tvj_IV3jjj3D"
      },
      "source": [
        "get_len = lambda s: len(str(s).split(' '))\n",
        "title_len = cleaned_recipes_df['name'].apply(get_len)"
      ],
      "execution_count": null,
      "outputs": []
    },
    {
      "cell_type": "code",
      "metadata": {
        "colab": {
          "base_uri": "https://localhost:8080/",
          "height": 624
        },
        "id": "nGvGMIKZkjqu",
        "outputId": "c3bd086f-bc28-4585-e8c0-35859f9520ec"
      },
      "source": [
        "figure(figsize=(20, 10))\n",
        "title_len.plot(\n",
        "    kind='box',\n",
        "    title='title_word_length distribution',\n",
        "    grid=True\n",
        ")"
      ],
      "execution_count": null,
      "outputs": [
        {
          "output_type": "execute_result",
          "data": {
            "text/plain": [
              "<matplotlib.axes._subplots.AxesSubplot at 0x7fe5bd4e5050>"
            ]
          },
          "metadata": {},
          "execution_count": 45
        },
        {
          "output_type": "display_data",
          "data": {
            "image/png": "[encoded data removed]",
            "text/plain": [
              "<Figure size 1440x720 with 1 Axes>"
            ]
          },
          "metadata": {
            "needs_background": "light"
          }
        }
      ]
    },
    {
      "cell_type": "code",
      "metadata": {
        "colab": {
          "base_uri": "https://localhost:8080/"
        },
        "id": "EVn0yOsYlIbs",
        "outputId": "ef3e2c76-eba7-49bc-a2ab-7d0aae993fb1"
      },
      "source": [
        "title_len.describe()"
      ],
      "execution_count": null,
      "outputs": [
        {
          "output_type": "execute_result",
          "data": {
            "text/plain": [
              "count    231636.000000\n",
              "mean          4.687186\n",
              "std           2.160446\n",
              "min           1.000000\n",
              "25%           3.000000\n",
              "50%           4.000000\n",
              "75%           6.000000\n",
              "max          31.000000\n",
              "Name: name, dtype: float64"
            ]
          },
          "metadata": {},
          "execution_count": 46
        }
      ]
    },
    {
      "cell_type": "code",
      "metadata": {
        "id": "czceo7rUbFOu"
      },
      "source": [
        "title_dict = defaultdict(lambda : 0)"
      ],
      "execution_count": null,
      "outputs": []
    },
    {
      "cell_type": "code",
      "metadata": {
        "colab": {
          "base_uri": "https://localhost:8080/"
        },
        "id": "UNU7CL5qbHru",
        "outputId": "b47f1317-8c48-4ee4-958b-414dc17afbf1"
      },
      "source": [
        "print(cleaned_recipes_df.shape)\n",
        "cleaned_recipes_df = cleaned_recipes_df.dropna(subset=['name'])\n",
        "print(cleaned_recipes_df.shape)"
      ],
      "execution_count": null,
      "outputs": [
        {
          "output_type": "stream",
          "text": [
            "(231636, 18)\n",
            "(231635, 18)\n"
          ],
          "name": "stdout"
        }
      ]
    },
    {
      "cell_type": "code",
      "metadata": {
        "id": "slIAcZVcXclM"
      },
      "source": [
        "def clean_titles(s):\n",
        "  return ' '.join(s.split())\n",
        "\n",
        "def get_title_word_count(s):\n",
        "  words = s.split()\n",
        "  for w in words:\n",
        "    title_dict[w] += 1\n",
        "  "
      ],
      "execution_count": null,
      "outputs": []
    },
    {
      "cell_type": "code",
      "metadata": {
        "id": "OmPUjv-3m5QF"
      },
      "source": [
        "cleaned_recipes_df['name'] = cleaned_recipes_df['name'].apply(clean_titles)"
      ],
      "execution_count": null,
      "outputs": []
    },
    {
      "cell_type": "code",
      "metadata": {
        "colab": {
          "base_uri": "https://localhost:8080/"
        },
        "id": "Y4PHFTA8YREa",
        "outputId": "ffceabfb-ee52-4f9d-c61c-ef5c2e22c76f"
      },
      "source": [
        "cleaned_recipes_df['name'].apply(get_title_word_count)\n",
        "title_dict"
      ],
      "execution_count": null,
      "outputs": [
        {
          "output_type": "execute_result",
          "data": {
            "text/plain": [
              "defaultdict(<function __main__.<lambda>>,\n",
              "            {'arriba': 3,\n",
              "             'baked': 5275,\n",
              "             'winter': 276,\n",
              "             'squash': 1544,\n",
              "             'mexican': 1732,\n",
              "             'style': 3364,\n",
              "             'a': 3517,\n",
              "             'bit': 27,\n",
              "             'different': 110,\n",
              "             'breakfast': 1515,\n",
              "             'pizza': 2342,\n",
              "             'all': 368,\n",
              "             'in': 4338,\n",
              "             'the': 3982,\n",
              "             'kitchen': 141,\n",
              "             'chili': 2809,\n",
              "             'alouette': 15,\n",
              "             'potatoes': 4187,\n",
              "             'amish': 180,\n",
              "             'tomato': 4111,\n",
              "             'ketchup': 103,\n",
              "             'for': 3829,\n",
              "             'canning': 84,\n",
              "             'apple': 4631,\n",
              "             'day': 366,\n",
              "             'milk': 666,\n",
              "             'shake': 470,\n",
              "             'aww': 2,\n",
              "             'marinated': 896,\n",
              "             'olives': 414,\n",
              "             'backyard': 10,\n",
              "             'barbecued': 467,\n",
              "             'ribs': 762,\n",
              "             'bananas': 291,\n",
              "             '4': 331,\n",
              "             'ice': 1264,\n",
              "             'cream': 6534,\n",
              "             'pie': 6057,\n",
              "             'beat': 16,\n",
              "             'this': 131,\n",
              "             'banana': 3419,\n",
              "             'bread': 7073,\n",
              "             'berry': 846,\n",
              "             'good': 576,\n",
              "             'sandwich': 1781,\n",
              "             'spread': 979,\n",
              "             'better': 246,\n",
              "             'than': 196,\n",
              "             'sex': 47,\n",
              "             'strawberries': 312,\n",
              "             'then': 9,\n",
              "             'bush': 25,\n",
              "             's': 19285,\n",
              "             'beans': 2940,\n",
              "             'boat': 20,\n",
              "             'house': 285,\n",
              "             'collard': 68,\n",
              "             'greens': 431,\n",
              "             'calm': 2,\n",
              "             'your': 472,\n",
              "             'nerves': 1,\n",
              "             'tonic': 21,\n",
              "             'chicken': 22966,\n",
              "             'lickin': 27,\n",
              "             'pork': 5430,\n",
              "             'chops': 1979,\n",
              "             'chile': 636,\n",
              "             'rellenos': 89,\n",
              "             'chinese': 783,\n",
              "             'candy': 493,\n",
              "             'chop': 203,\n",
              "             'suey': 52,\n",
              "             'of': 2119,\n",
              "             'cauliflower': 1001,\n",
              "             'soup': 8859,\n",
              "             'vegan': 1367,\n",
              "             'spinach': 3526,\n",
              "             'crispy': 761,\n",
              "             'crunchy': 498,\n",
              "             'deep': 284,\n",
              "             'fried': 2744,\n",
              "             'dessert': 989,\n",
              "             'thingys': 1,\n",
              "             'easiest': 299,\n",
              "             'ever': 838,\n",
              "             'hollandaise': 63,\n",
              "             'sauce': 10075,\n",
              "             'emotional': 2,\n",
              "             'balance': 1,\n",
              "             'spice': 1062,\n",
              "             'mixture': 24,\n",
              "             'fool': 54,\n",
              "             'meat': 872,\n",
              "             'eaters': 8,\n",
              "             'forgotten': 10,\n",
              "             'minestrone': 159,\n",
              "             'george': 44,\n",
              "             'at': 69,\n",
              "             'cove': 3,\n",
              "             'black': 2016,\n",
              "             'bean': 3393,\n",
              "             'get': 45,\n",
              "             'sensation': 18,\n",
              "             'brownies': 1274,\n",
              "             'global': 3,\n",
              "             'gourmet': 219,\n",
              "             'taco': 941,\n",
              "             'casserole': 5378,\n",
              "             'grilled': 3704,\n",
              "             'ranch': 681,\n",
              "             'venison': 214,\n",
              "             'burgers': 1236,\n",
              "             'healthy': 1124,\n",
              "             'them': 19,\n",
              "             'yogurt': 995,\n",
              "             'popsicles': 59,\n",
              "             'homemade': 1275,\n",
              "             'vegetable': 2051,\n",
              "             'from': 971,\n",
              "             'can': 253,\n",
              "             'how': 118,\n",
              "             'i': 353,\n",
              "             'got': 12,\n",
              "             'my': 1265,\n",
              "             'family': 256,\n",
              "             'to': 617,\n",
              "             'eat': 101,\n",
              "             't': 331,\n",
              "             'believe': 41,\n",
              "             'it': 356,\n",
              "             'low': 2804,\n",
              "             'fat': 2227,\n",
              "             'creamy': 3175,\n",
              "             'potato': 5514,\n",
              "             'salad': 13299,\n",
              "             'don': 86,\n",
              "             'feel': 9,\n",
              "             'like': 366,\n",
              "             'cooking': 190,\n",
              "             'tonight': 7,\n",
              "             'stole': 2,\n",
              "             'idea': 7,\n",
              "             'mirj': 19,\n",
              "             'sesame': 908,\n",
              "             'noodles': 1061,\n",
              "             'yam': 104,\n",
              "             'what': 46,\n",
              "             'two': 538,\n",
              "             'muffins': 3389,\n",
              "             'immoral': 2,\n",
              "             'filling': 460,\n",
              "             'loose': 10,\n",
              "             'italian': 2387,\n",
              "             'pasta': 4262,\n",
              "             'fries': 456,\n",
              "             'gut': 2,\n",
              "             'busters': 2,\n",
              "             'jeanne': 4,\n",
              "             'birthday': 67,\n",
              "             'cake': 8344,\n",
              "             'jiffy': 50,\n",
              "             'extra': 106,\n",
              "             'moist': 289,\n",
              "             'carrot': 1437,\n",
              "             'roasted': 3473,\n",
              "             'corn': 2821,\n",
              "             'and': 30217,\n",
              "             'jalapeno': 561,\n",
              "             'cornbread': 807,\n",
              "             'keep': 7,\n",
              "             'going': 7,\n",
              "             'german': 663,\n",
              "             'friendship': 54,\n",
              "             'killer': 87,\n",
              "             'lasagna': 1045,\n",
              "             'sink': 29,\n",
              "             'egg': 1602,\n",
              "             'bake': 2446,\n",
              "             'land': 9,\n",
              "             'nod': 1,\n",
              "             'cinnamon': 1833,\n",
              "             'buns': 382,\n",
              "             'leftovers': 36,\n",
              "             'spaghetti': 1414,\n",
              "             'love': 138,\n",
              "             'is': 89,\n",
              "             'air': 21,\n",
              "             'beef': 5386,\n",
              "             'fondue': 234,\n",
              "             'sauces': 39,\n",
              "             'make': 338,\n",
              "             'way': 298,\n",
              "             'shortcakes': 32,\n",
              "             'that': 184,\n",
              "             'dance': 4,\n",
              "             'salsa': 1765,\n",
              "             'marijuana': 2,\n",
              "             'vinegar': 326,\n",
              "             'mennonite': 16,\n",
              "             'fritters': 314,\n",
              "             'mock': 233,\n",
              "             'mole': 100,\n",
              "             'guacamole': 340,\n",
              "             'momma': 47,\n",
              "             'special': 356,\n",
              "             'marinade': 927,\n",
              "             'more': 140,\n",
              "             'pear': 679,\n",
              "             'jigglers': 8,\n",
              "             'mr': 57,\n",
              "             'grant': 4,\n",
              "             'you': 351,\n",
              "             'took': 2,\n",
              "             'half': 59,\n",
              "             'veal': 249,\n",
              "             'prince': 16,\n",
              "             'orloff': 1,\n",
              "             'munch': 16,\n",
              "             'without': 113,\n",
              "             'guilt': 74,\n",
              "             'tomatoes': 1574,\n",
              "             'muffuletta': 37,\n",
              "             'never': 72,\n",
              "             'weep': 3,\n",
              "             'whipped': 255,\n",
              "             'no': 1828,\n",
              "             'cookie': 647,\n",
              "             'crumble': 274,\n",
              "             'cheesecake': 1761,\n",
              "             'now': 22,\n",
              "             'later': 6,\n",
              "             'vegetarian': 925,\n",
              "             'empanadas': 95,\n",
              "             'off': 74,\n",
              "             'cob': 134,\n",
              "             'freezer': 153,\n",
              "             'one': 749,\n",
              "             'bowl': 362,\n",
              "             'perfect': 535,\n",
              "             'pound': 497,\n",
              "             'pot': 4531,\n",
              "             'open': 148,\n",
              "             'philly': 110,\n",
              "             'waldorf': 111,\n",
              "             'pick': 36,\n",
              "             'me': 162,\n",
              "             'up': 505,\n",
              "             'party': 373,\n",
              "             'kabobs': 299,\n",
              "             'stuffed': 3033,\n",
              "             'pour': 8,\n",
              "             'over': 374,\n",
              "             'anything': 27,\n",
              "             'mushroom': 2295,\n",
              "             'gravy': 945,\n",
              "             'put': 12,\n",
              "             'down': 416,\n",
              "             'fork': 20,\n",
              "             'tuna': 1675,\n",
              "             'real': 251,\n",
              "             'bolognese': 127,\n",
              "             'red': 2847,\n",
              "             'hot': 2606,\n",
              "             'applesauce': 434,\n",
              "             'macaroni': 1290,\n",
              "             'rich': 386,\n",
              "             'fudge': 1189,\n",
              "             'rise': 34,\n",
              "             'shine': 11,\n",
              "             'fruit': 2031,\n",
              "             'pancake': 297,\n",
              "             'say': 12,\n",
              "             'smells': 5,\n",
              "             'sunday': 136,\n",
              "             'fricassee': 32,\n",
              "             'with': 26640,\n",
              "             'meatballs': 1236,\n",
              "             'smoked': 888,\n",
              "             'salmon': 2450,\n",
              "             'cracker': 256,\n",
              "             'some': 23,\n",
              "             'souper': 45,\n",
              "             'easy': 6445,\n",
              "             'sweet': 4372,\n",
              "             'sour': 1809,\n",
              "             'avocado': 1134,\n",
              "             'dip': 3483,\n",
              "             'spicy': 3318,\n",
              "             'steamed': 345,\n",
              "             'cutlets': 217,\n",
              "             'packages': 6,\n",
              "             'stove': 219,\n",
              "             'top': 372,\n",
              "             'bbq': 1167,\n",
              "             'or': 2559,\n",
              "             'sugared': 59,\n",
              "             'grapes': 95,\n",
              "             'symphony': 2,\n",
              "             'best': 1974,\n",
              "             'chocolate': 9029,\n",
              "             'chip': 1858,\n",
              "             'elvis': 27,\n",
              "             'smoothie': 1243,\n",
              "             'man': 133,\n",
              "             'woiks': 1,\n",
              "             'dilly': 69,\n",
              "             'tide': 1,\n",
              "             'indian': 615,\n",
              "             'chaat': 14,\n",
              "             'simple': 1483,\n",
              "             'veggie': 812,\n",
              "             'health': 58,\n",
              "             'truth': 2,\n",
              "             'serum': 1,\n",
              "             'margaritas': 79,\n",
              "             'turtle': 91,\n",
              "             'squares': 858,\n",
              "             'twisted': 35,\n",
              "             'american': 215,\n",
              "             'voodoo': 17,\n",
              "             'calamari': 54,\n",
              "             'ink': 2,\n",
              "             'wacky': 20,\n",
              "             'wait': 7,\n",
              "             'forever': 7,\n",
              "             'we': 16,\n",
              "             'thought': 5,\n",
              "             'was': 6,\n",
              "             'layer': 459,\n",
              "             'zupa': 3,\n",
              "             'ze': 2,\n",
              "             'swiezych': 1,\n",
              "             'grzybow': 1,\n",
              "             'polish': 205,\n",
              "             '1': 471,\n",
              "             'asian': 929,\n",
              "             'noodle': 897,\n",
              "             'world': 298,\n",
              "             'dr': 84,\n",
              "             'pepper': 1899,\n",
              "             'ham': 2075,\n",
              "             'glaze': 674,\n",
              "             'favorite': 769,\n",
              "             'whole': 935,\n",
              "             'fish': 1477,\n",
              "             'by': 703,\n",
              "             'sy': 14,\n",
              "             'french': 1784,\n",
              "             'onion': 2356,\n",
              "             'canada': 12,\n",
              "             'cookies': 6012,\n",
              "             'dressing': 2557,\n",
              "             '10': 96,\n",
              "             'oamc': 462,\n",
              "             '412': 1,\n",
              "             'broccoli': 2370,\n",
              "             'millionaire': 16,\n",
              "             '000': 7,\n",
              "             'artichoke': 862,\n",
              "             'hearts': 137,\n",
              "             '00': 3,\n",
              "             'tangy': 362,\n",
              "             'recipe': 1100,\n",
              "             '100': 78,\n",
              "             '20': 49,\n",
              "             'prize': 48,\n",
              "             'winning': 86,\n",
              "             'con': 434,\n",
              "             'carne': 178,\n",
              "             '2000': 6,\n",
              "             'meatloaf': 1126,\n",
              "             '25': 16,\n",
              "             'pumpkin': 2638,\n",
              "             '250': 6,\n",
              "             '300': 2,\n",
              "             'icing': 394,\n",
              "             '5': 405,\n",
              "             'tacos': 535,\n",
              "             '50': 25,\n",
              "             'crockpot': 217,\n",
              "             '500': 3,\n",
              "             'margarita': 281,\n",
              "             'ara': 1,\n",
              "             'oup': 1,\n",
              "             'blepandekager': 1,\n",
              "             'danish': 239,\n",
              "             'pancakes': 1473,\n",
              "             'lplermagrone': 2,\n",
              "             'herdsman': 1,\n",
              "             'lplermagronen': 1,\n",
              "             'rter': 1,\n",
              "             'med': 27,\n",
              "             'flsk': 2,\n",
              "             'pea': 620,\n",
              "             'rtsoppa': 1,\n",
              "             'swedish': 357,\n",
              "             'yellow': 439,\n",
              "             'pinards': 1,\n",
              "             'en': 117,\n",
              "             'branche': 1,\n",
              "             'sauted': 87,\n",
              "             'der': 1,\n",
              "             'wiener': 21,\n",
              "             'schnitzel': 75,\n",
              "             'dog': 235,\n",
              "             'go': 120,\n",
              "             'add': 16,\n",
              "             'almost': 171,\n",
              "             'dairy': 324,\n",
              "             'queen': 56,\n",
              "             'blizzard': 16,\n",
              "             'cheese': 9745,\n",
              "             'ant': 1,\n",
              "             'kelly': 64,\n",
              "             'london': 66,\n",
              "             'broil': 63,\n",
              "             'goes': 17,\n",
              "             'atkins': 35,\n",
              "             'friendly': 266,\n",
              "             'oozy': 3,\n",
              "             'bar': 371,\n",
              "             'spray': 12,\n",
              "             'really': 174,\n",
              "             'works': 23,\n",
              "             'toast': 990,\n",
              "             'oatmeal': 2050,\n",
              "             'cinnabon': 27,\n",
              "             'rolls': 1615,\n",
              "             'tofu': 875,\n",
              "             'big': 292,\n",
              "             'gumbo': 180,\n",
              "             'mac': 454,\n",
              "             'buckley': 2,\n",
              "             'cajun': 721,\n",
              "             'burek': 4,\n",
              "             'feta': 1167,\n",
              "             'phyllo': 165,\n",
              "             'california': 227,\n",
              "             'roll': 742,\n",
              "             'fail': 110,\n",
              "             'holiday': 414,\n",
              "             'fruitcake': 133,\n",
              "             'cancer': 5,\n",
              "             'curing': 1,\n",
              "             'matzah': 8,\n",
              "             'ball': 271,\n",
              "             'cheeeezy': 1,\n",
              "             'cheeseburger': 238,\n",
              "             'lactose': 22,\n",
              "             'intolerant': 1,\n",
              "             'cheesy': 1690,\n",
              "             'chef': 302,\n",
              "             'chic': 6,\n",
              "             'greek': 1332,\n",
              "             'fingers': 184,\n",
              "             'coal': 6,\n",
              "             'miners': 3,\n",
              "             'gnocchi': 187,\n",
              "             'country': 658,\n",
              "             'pig': 40,\n",
              "             'crab': 1151,\n",
              "             'creamsicle': 57,\n",
              "             'leek': 382,\n",
              "             'curry': 1656,\n",
              "             'da': 26,\n",
              "             'chicago': 65,\n",
              "             'denauseating': 1,\n",
              "             'ginger': 1861,\n",
              "             'tea': 1196,\n",
              "             'dipstir': 1,\n",
              "             'crock': 3357,\n",
              "             'bother': 2,\n",
              "             'canned': 132,\n",
              "             'stuff': 93,\n",
              "             'sloppy': 364,\n",
              "             'joes': 277,\n",
              "             'dressed': 38,\n",
              "             'secret': 187,\n",
              "             'drunken': 84,\n",
              "             'cellent': 1,\n",
              "             'even': 20,\n",
              "             'these': 17,\n",
              "             'bran': 397,\n",
              "             'evil': 15,\n",
              "             'exotic': 43,\n",
              "             'fruits': 45,\n",
              "             'barbecue': 802,\n",
              "             'fake': 39,\n",
              "             'blueberry': 1569,\n",
              "             'fire': 115,\n",
              "             'flaky': 41,\n",
              "             'raisin': 887,\n",
              "             'flipped': 2,\n",
              "             'roast': 2121,\n",
              "             'turkey': 2452,\n",
              "             'free': 2180,\n",
              "             'toe': 3,\n",
              "             'field': 34,\n",
              "             'green': 3063,\n",
              "             'fresh': 1660,\n",
              "             'herbs': 307,\n",
              "             'walnuts': 262,\n",
              "             'geebee': 1,\n",
              "             'sandwiches': 1335,\n",
              "             'carrots': 813,\n",
              "             'glazed': 1264,\n",
              "             'bears': 8,\n",
              "             'ryes': 4,\n",
              "             'golden': 456,\n",
              "             'circle': 7,\n",
              "             'pineapple': 1803,\n",
              "             'upside': 326,\n",
              "             'hawaiian': 379,\n",
              "             'appetizer': 324,\n",
              "             'rice': 5736,\n",
              "             'homebakes': 1,\n",
              "             'knock': 22,\n",
              "             'stew': 2093,\n",
              "             'biscuits': 998,\n",
              "             'honey': 2542,\n",
              "             'm': 236,\n",
              "             'peanuts': 123,\n",
              "             'about': 20,\n",
              "             'tamale': 120,\n",
              "             'made': 242,\n",
              "             'puffs': 286,\n",
              "             'hate': 17,\n",
              "             'miracle': 43,\n",
              "             'whip': 112,\n",
              "             'but': 108,\n",
              "             'had': 23,\n",
              "             'nothing': 16,\n",
              "             'impossible': 73,\n",
              "             'bisquick': 173,\n",
              "             'christmas': 531,\n",
              "             'too': 140,\n",
              "             'jamaican': 195,\n",
              "             'hungry': 60,\n",
              "             'jamba': 6,\n",
              "             'juice': 296,\n",
              "             'home': 237,\n",
              "             'lime': 1593,\n",
              "             'wild': 653,\n",
              "             'jeera': 10,\n",
              "             'on': 1074,\n",
              "             'cubes': 64,\n",
              "             'joe': 148,\n",
              "             'peppermint': 212,\n",
              "             'n': 1041,\n",
              "             'just': 179,\n",
              "             'trust': 4,\n",
              "             'bistro': 62,\n",
              "             'cheddar': 1144,\n",
              "             'kicked': 55,\n",
              "             'oven': 1371,\n",
              "             'baby': 610,\n",
              "             'back': 124,\n",
              "             'korney': 1,\n",
              "             'stuffing': 668,\n",
              "             'side': 161,\n",
              "             'dish': 532,\n",
              "             'laings': 1,\n",
              "             'english': 307,\n",
              "             'pickled': 328,\n",
              "             'onions': 1173,\n",
              "             'copycat': 713,\n",
              "             'leftover': 226,\n",
              "             'lo': 74,\n",
              "             'mein': 137,\n",
              "             'lemon': 4677,\n",
              "             'coconut': 2102,\n",
              "             'custard': 445,\n",
              "             'lite': 120,\n",
              "             'cretons': 6,\n",
              "             'little': 225,\n",
              "             'bear': 55,\n",
              "             'seafood': 484,\n",
              "             'loaded': 135,\n",
              "             'deviled': 351,\n",
              "             'eggs': 1473,\n",
              "             'lupo': 1,\n",
              "             'spiedies': 9,\n",
              "             'ma': 78,\n",
              "             'krispies': 150,\n",
              "             'treats': 195,\n",
              "             'meal': 153,\n",
              "             'middle': 184,\n",
              "             'eastern': 171,\n",
              "             'twice': 187,\n",
              "             'lish': 2,\n",
              "             'ous': 1,\n",
              "             'nat': 21,\n",
              "             'king': 202,\n",
              "             'cole': 179,\n",
              "             'coleslaw': 530,\n",
              "             'near': 5,\n",
              "             'east': 116,\n",
              "             'pilaf': 466,\n",
              "             'copycats': 2,\n",
              "             'here': 17,\n",
              "             'tortilla': 543,\n",
              "             'harm': 3,\n",
              "             'eggplant': 995,\n",
              "             'parm': 27,\n",
              "             'ww': 1121,\n",
              "             'name': 16,\n",
              "             'loco': 30,\n",
              "             'moco': 8,\n",
              "             'not': 373,\n",
              "             'average': 20,\n",
              "             'every': 22,\n",
              "             'old': 859,\n",
              "             'ladies': 16,\n",
              "             'bus': 2,\n",
              "             'outback': 81,\n",
              "             'steak': 2277,\n",
              "             'rub': 374,\n",
              "             'pass': 5,\n",
              "             'another': 171,\n",
              "             'clam': 280,\n",
              "             'shrimp': 3800,\n",
              "             'frosting': 899,\n",
              "             'pink': 351,\n",
              "             'cherry': 1548,\n",
              "             'pan': 746,\n",
              "             'skins': 82,\n",
              "             'posh': 10,\n",
              "             'puddingkuchen': 1,\n",
              "             'quick': 2048,\n",
              "             'picker': 5,\n",
              "             'uppers': 1,\n",
              "             'biscuit': 235,\n",
              "             'new': 775,\n",
              "             'york': 133,\n",
              "             'supreme': 290,\n",
              "             'river': 46,\n",
              "             'shoot': 3,\n",
              "             'out': 200,\n",
              "             'pigskins': 2,\n",
              "             'robin': 30,\n",
              "             'drink': 280,\n",
              "             'mai': 40,\n",
              "             'tai': 26,\n",
              "             'dinner': 595,\n",
              "             'russian': 269,\n",
              "             'sangria': 170,\n",
              "             'cups': 387,\n",
              "             'non': 231,\n",
              "             'alcoholic': 175,\n",
              "             'sausage': 2535,\n",
              "             'ingredient': 177,\n",
              "             'seva': 2,\n",
              "             'sexy': 13,\n",
              "             'cocktail': 720,\n",
              "             'she': 10,\n",
              "             'skinny': 89,\n",
              "             'skordy': 1,\n",
              "             'w': 960,\n",
              "             'rosemary': 927,\n",
              "             'olive': 850,\n",
              "             'oi': 1,\n",
              "             'slightly': 14,\n",
              "             'sloughed': 1,\n",
              "             'tortellini': 378,\n",
              "             'south': 462,\n",
              "             'beach': 224,\n",
              "             'bell': 587,\n",
              "             'peppers': 1136,\n",
              "             'splenda': 89,\n",
              "             'd': 189,\n",
              "             'sugar': 1631,\n",
              "             'carb': 755,\n",
              "             'sticky': 302,\n",
              "             'chicky': 8,\n",
              "             'dump': 132,\n",
              "             'sun': 524,\n",
              "             'dried': 855,\n",
              "             'tastes': 43,\n",
              "             'mounds': 26,\n",
              "             'kahlua': 222,\n",
              "             'v': 93,\n",
              "             '8': 85,\n",
              "             'bomb': 29,\n",
              "             'mooch': 1,\n",
              "             'zucchini': 2044,\n",
              "             'u': 29,\n",
              "             'l': 155,\n",
              "             'game': 139,\n",
              "             'creamed': 364,\n",
              "             'chipped': 31,\n",
              "             'thicker': 2,\n",
              "             'trini': 4,\n",
              "             'white': 2323,\n",
              "             'moose': 28,\n",
              "             'windy': 1,\n",
              "             'teriyaki': 445,\n",
              "             'wings': 642,\n",
              "             'bring': 5,\n",
              "             'box': 78,\n",
              "             'yummy': 744,\n",
              "             'warm': 560,\n",
              "             'mix': 1437,\n",
              "             'money': 2,\n",
              "             'nuthin': 1,\n",
              "             '007': 2,\n",
              "             'martini': 351,\n",
              "             '21': 42,\n",
              "             'things': 17,\n",
              "             'minute': 445,\n",
              "             '99': 7,\n",
              "             'foster': 64,\n",
              "             'boston': 123,\n",
              "             'market': 67,\n",
              "             'steakhouse': 105,\n",
              "             'starbucks': 78,\n",
              "             'frappuccino': 27,\n",
              "             'amerikaner': 2,\n",
              "             'vanilla': 912,\n",
              "             'amigos': 5,\n",
              "             'crisp': 658,\n",
              "             'burritos': 307,\n",
              "             'any': 86,\n",
              "             'type': 19,\n",
              "             'nut': 1188,\n",
              "             'butter': 4430,\n",
              "             'aunt': 300,\n",
              "             'johnnie': 3,\n",
              "             'shucks': 2,\n",
              "             'crescent': 278,\n",
              "             'dough': 458,\n",
              "             'bacon': 2741,\n",
              "             'bailey': 85,\n",
              "             'basic': 559,\n",
              "             'beet': 248,\n",
              "             'borscht': 53,\n",
              "             'blues': 21,\n",
              "             'blue': 955,\n",
              "             'risotto': 513,\n",
              "             'beefy': 125,\n",
              "             'seitan': 61,\n",
              "             'log': 58,\n",
              "             'berinzila': 1,\n",
              "             'bouillon': 13,\n",
              "             'crack': 14,\n",
              "             'biggest': 8,\n",
              "             'loser': 7,\n",
              "             'blond': 12,\n",
              "             'boo': 9,\n",
              "             'tiful': 1,\n",
              "             'jell': 53,\n",
              "             'o': 258,\n",
              "             'buffalo': 406,\n",
              "             'medium': 9,\n",
              "             'wing': 75,\n",
              "             'todd': 288,\n",
              "             'mushrooms': 1587,\n",
              "             'call': 14,\n",
              "             'department': 3,\n",
              "             'caramel': 1250,\n",
              "             'apples': 646,\n",
              "             'chmeur': 1,\n",
              "             'pudding': 2262,\n",
              "             'factory': 52,\n",
              "             'cakes': 905,\n",
              "             'be': 116,\n",
              "             'creations': 5,\n",
              "             'popcorn': 341,\n",
              "             'chipotle': 678,\n",
              "             'burrito': 146,\n",
              "             'bowls': 67,\n",
              "             'cloud': 56,\n",
              "             'nine': 12,\n",
              "             'comfort': 89,\n",
              "             'able': 1,\n",
              "             'kamikaze': 5,\n",
              "             'company': 109,\n",
              "             'coming': 15,\n",
              "             'crabby': 32,\n",
              "             'crazy': 112,\n",
              "             'whatever': 18,\n",
              "             'fiddlehead': 11,\n",
              "             'death': 46,\n",
              "             'dark': 250,\n",
              "             'diamond': 6,\n",
              "             'creme': 310,\n",
              "             'brulee': 93,\n",
              "             'dirty': 83,\n",
              "             'until': 2,\n",
              "             'try': 33,\n",
              "             'dorito': 30,\n",
              "             'seasoning': 310,\n",
              "             'duffins': 1,\n",
              "             'donut': 24,\n",
              "             'elephant': 39,\n",
              "             'ear': 3,\n",
              "             'dutch': 308,\n",
              "             'elmer': 4,\n",
              "             'summertime': 52,\n",
              "             'emerald': 26,\n",
              "             'ecstasy': 8,\n",
              "             'extraordinary': 5,\n",
              "             'fabulous': 170,\n",
              "             'fall': 90,\n",
              "             'ing': 3,\n",
              "             'famous': 348,\n",
              "             'garlic': 4232,\n",
              "             'faux': 56,\n",
              "             'sourdough': 267,\n",
              "             'first': 26,\n",
              "             'skillet': 995,\n",
              "             'herb': 1142,\n",
              "             'crust': 901,\n",
              "             'foodies': 2,\n",
              "             'succotash': 38,\n",
              "             'fooled': 7,\n",
              "             'flourless': 115,\n",
              "             'peanut': 2889,\n",
              "             'fraicheur': 1,\n",
              "             'vinaigrette': 830,\n",
              "             'balsamic': 890,\n",
              "             'fronch': 1,\n",
              "             'full': 41,\n",
              "             'cool': 161,\n",
              "             'funny': 5,\n",
              "             'bones': 23,\n",
              "             'gilded': 3,\n",
              "             'gimme': 2,\n",
              "             'cheap': 57,\n",
              "             'weeknight': 52,\n",
              "             'gobble': 6,\n",
              "             'cottage': 315,\n",
              "             'morning': 172,\n",
              "             'goulash': 225,\n",
              "             'heart': 128,\n",
              "             'version': 435,\n",
              "             'goulashy': 1,\n",
              "             'slow': 1264,\n",
              "             'cooker': 1248,\n",
              "             'granny': 134,\n",
              "             'kid': 109,\n",
              "             'high': 174,\n",
              "             'iron': 74,\n",
              "             'grey': 22,\n",
              "             'cup': 165,\n",
              "             'wannabe': 4,\n",
              "             'solo': 55,\n",
              "             'savory': 661,\n",
              "             'hamburger': 532,\n",
              "             'zero': 18,\n",
              "             'harak': 1,\n",
              "             'mas': 10,\n",
              "             'sri': 22,\n",
              "             'lankan': 17,\n",
              "             'he': 8,\n",
              "             'proposed': 1,\n",
              "             'velvet': 177,\n",
              "             'healthified': 10,\n",
              "             'decadent': 133,\n",
              "             'mug': 66,\n",
              "             'hershey': 77,\n",
              "             'triple': 264,\n",
              "             'hey': 9,\n",
              "             'nic': 1,\n",
              "             'hibachi': 8,\n",
              "             'hindu': 1,\n",
              "             'helper': 41,\n",
              "             'human': 5,\n",
              "             'puppy': 19,\n",
              "             'chow': 147,\n",
              "             'am': 11,\n",
              "             'tired': 3,\n",
              "             'living': 66,\n",
              "             'margarine': 5,\n",
              "             'coulda': 1,\n",
              "             'have': 48,\n",
              "             'tahini': 131,\n",
              "             'hummus': 354,\n",
              "             'carnivores': 1,\n",
              "             've': 25,\n",
              "             'only': 65,\n",
              "             'quarter': 14,\n",
              "             'if': 28,\n",
              "             'pina': 143,\n",
              "             'coladas': 6,\n",
              "             'protein': 208,\n",
              "             'lemonade': 427,\n",
              "             'still': 12,\n",
              "             'feels': 3,\n",
              "             'keeper': 3,\n",
              "             'stick': 71,\n",
              "             'brisket': 239,\n",
              "             'graham': 178,\n",
              "             'delight': 418,\n",
              "             'ized': 1,\n",
              "             'janie': 5,\n",
              "             'marzetti': 15,\n",
              "             'deluxe': 160,\n",
              "             'sticks': 193,\n",
              "             'johnny': 72,\n",
              "             'depp': 1,\n",
              "             'bundt': 292,\n",
              "             'k': 110,\n",
              "             'peachy': 133,\n",
              "             'cobbler': 514,\n",
              "             'cabbage': 1500,\n",
              "             'chunk': 136,\n",
              "             'lamb': 1249,\n",
              "             'sensory': 1,\n",
              "             'explosion': 9,\n",
              "             'leave': 6,\n",
              "             'light': 765,\n",
              "             'lighter': 134,\n",
              "             'pistachio': 281,\n",
              "             'tortillas': 133,\n",
              "             'kick': 118,\n",
              "             'lofthouse': 9,\n",
              "             'magic': 165,\n",
              "             'bars': 2200,\n",
              "             'mama': 254,\n",
              "             'mia': 23,\n",
              "             'mostaccioli': 33,\n",
              "             'mamma': 31,\n",
              "             'ravioli': 285,\n",
              "             'bites': 443,\n",
              "             'mandarin': 250,\n",
              "             'marco': 7,\n",
              "             'polenta': 310,\n",
              "             'mcgriddle': 2,\n",
              "             'ralf': 3,\n",
              "             'makeover': 33,\n",
              "             'melanie': 10,\n",
              "             'missy': 4,\n",
              "             'mohnstrietzel': 1,\n",
              "             'poppy': 371,\n",
              "             'seed': 570,\n",
              "             'mom': 919,\n",
              "             'amazing': 270,\n",
              "             'mostly': 7,\n",
              "             'clean': 59,\n",
              "             'eating': 59,\n",
              "             'granola': 406,\n",
              "             'muffalata': 1,\n",
              "             'great': 290,\n",
              "             'nachos': 211,\n",
              "             'naked': 25,\n",
              "             'navajo': 17,\n",
              "             'peach': 1154,\n",
              "             'need': 20,\n",
              "             'mashed': 915,\n",
              "             'next': 12,\n",
              "             'fettuccine': 397,\n",
              "             'alfredo': 524,\n",
              "             'fuss': 39,\n",
              "             'artichokes': 226,\n",
              "             'fears': 1,\n",
              "             'paella': 97,\n",
              "             'time': 149,\n",
              "             'flat': 103,\n",
              "             'nuked': 4,\n",
              "             'spuds': 22,\n",
              "             'sicilian': 102,\n",
              "             'oh': 101,\n",
              "             'boy': 76,\n",
              "             'waffles': 431,\n",
              "             'bay': 132,\n",
              "             'reliable': 1,\n",
              "             'aid': 36,\n",
              "             'mixers': 3,\n",
              "             'garden': 515,\n",
              "             'ingredients': 85,\n",
              "             'oopah': 2,\n",
              "             'breasts': 821,\n",
              "             'oops': 9,\n",
              "             'there': 14,\n",
              "             'orange': 3255,\n",
              "             'p': 104,\n",
              "             'anana': 1,\n",
              "             'confetti': 121,\n",
              "             'circles': 5,\n",
              "             'pantry': 60,\n",
              "             'raid': 1,\n",
              "             'enchilada': 288,\n",
              "             'payday': 8,\n",
              "             'jam': 600,\n",
              "             'peas': 803,\n",
              "             'fit': 22,\n",
              "             'mccall': 6,\n",
              "             'school': 55,\n",
              "             'sushi': 100,\n",
              "             'pita': 311,\n",
              "             'please': 28,\n",
              "             'those': 26,\n",
              "             'puerto': 71,\n",
              "             'rican': 89,\n",
              "             'mexico': 55,\n",
              "             'radler': 2,\n",
              "             'mass': 4,\n",
              "             'beer': 837,\n",
              "             'cooler': 168,\n",
              "             'rainbow': 113,\n",
              "             ...})"
            ]
          },
          "metadata": {},
          "execution_count": 51
        }
      ]
    },
    {
      "cell_type": "code",
      "metadata": {
        "id": "dYsSCpwArfxS"
      },
      "source": [
        "one_letter_words = []\n",
        "for k in title_dict.keys():\n",
        "  if len(k) == 1 and k != 'a' and k != 's':\n",
        "    one_letter_words += [(k, title_dict[k])]"
      ],
      "execution_count": null,
      "outputs": []
    },
    {
      "cell_type": "code",
      "metadata": {
        "id": "Psrj6Kj9sQ0A"
      },
      "source": [
        "def get_titles_with_word(s, word, lst):\n",
        "  words = s.split()\n",
        "  if word in words:\n",
        "    lst.append(s)"
      ],
      "execution_count": null,
      "outputs": []
    },
    {
      "cell_type": "code",
      "metadata": {
        "colab": {
          "base_uri": "https://localhost:8080/"
        },
        "id": "IFL33Hvatbdk",
        "outputId": "87fa93e8-a289-4cac-b1d3-7326ffa82d11"
      },
      "source": [
        "one_letter_words"
      ],
      "execution_count": null,
      "outputs": [
        {
          "output_type": "execute_result",
          "data": {
            "text/plain": [
              "[('4', 331),\n",
              " ('i', 353),\n",
              " ('t', 331),\n",
              " ('1', 471),\n",
              " ('5', 405),\n",
              " ('m', 236),\n",
              " ('n', 1041),\n",
              " ('w', 960),\n",
              " ('d', 189),\n",
              " ('v', 93),\n",
              " ('8', 85),\n",
              " ('u', 29),\n",
              " ('l', 155),\n",
              " ('o', 258),\n",
              " ('k', 110),\n",
              " ('p', 104),\n",
              " ('y', 77),\n",
              " ('2', 723),\n",
              " ('c', 105),\n",
              " ('0', 45),\n",
              " ('3', 484),\n",
              " ('x', 41),\n",
              " ('6', 109),\n",
              " ('e', 231),\n",
              " ('b', 250),\n",
              " ('h', 27),\n",
              " ('7', 169),\n",
              " ('9', 45),\n",
              " ('r', 44),\n",
              " ('j', 82),\n",
              " ('z', 72),\n",
              " ('f', 58),\n",
              " ('g', 87),\n",
              " ('q', 48)]"
            ]
          },
          "metadata": {},
          "execution_count": 54
        }
      ]
    },
    {
      "cell_type": "code",
      "metadata": {
        "id": "SoV59cj0zvW1"
      },
      "source": [
        "res = []\n",
        "for pair in one_letter_words:\n",
        "  lst = []\n",
        "  cleaned_recipes_df['name'].apply(get_titles_with_word, word=pair[0], lst=lst)\n",
        "  res += lst"
      ],
      "execution_count": null,
      "outputs": []
    },
    {
      "cell_type": "code",
      "metadata": {
        "id": "GTgmbA-WBfBh"
      },
      "source": [
        "np.savetxt('clean_titles.csv', res, delimiter=',', fmt ='% s')"
      ],
      "execution_count": null,
      "outputs": []
    },
    {
      "cell_type": "code",
      "metadata": {
        "id": "1kTbyNHQlQWt"
      },
      "source": [
        "import re \n",
        "\n",
        "def clean_ingrs(k):\n",
        "  k = '_'.join(re.split('-| |_', k))\n",
        "  return k\n",
        "\n",
        "def clean_tags(k):\n",
        "  k = '_'.join(re.split('-| |_', k))\n",
        "  return k\n",
        "\n",
        "\n",
        "def remove_plurals(ingrs_dict, mapping_dict):\n",
        "  for k, v in ingrs_dict.items():\n",
        "    found = False\n",
        "    if k[-2:] == 'es':\n",
        "      if k[:-2] in ingrs_dict.keys():\n",
        "        mapping_dict[k] = k[:-2]\n",
        "        ingrs_dict[k[:-2]] += ingrs_dict[k]\n",
        "        found = True\n",
        "    if k[-1:] == 's' and not found:\n",
        "      if k[:-1] in ingrs_dict.keys():\n",
        "        mapping_dict[k] = k[:-1]\n",
        "        ingrs_dict[k[:-1]] += ingrs_dict[k]\n",
        "\n",
        "  for ingr, _ in mapping_dict.items():\n",
        "    print('deleting ' + ingr)\n",
        "    del ingrs_dict[ingr]"
      ],
      "execution_count": null,
      "outputs": []
    },
    {
      "cell_type": "code",
      "metadata": {
        "id": "LN3-HkAlnBXU"
      },
      "source": [
        "cleaned_ingrs_dict = {clean_ingrs(k): v for (k, v) in ingrs_dict.items()}\n",
        "cleaned_tags_dict = {clean_tags(k): v for (k, v) in tags_dict.items()}"
      ],
      "execution_count": null,
      "outputs": []
    },
    {
      "cell_type": "code",
      "metadata": {
        "id": "LEWDbdtvq_bN"
      },
      "source": [
        "mapping_ingrs_dict = dict()\n",
        "mapping_tags_dict = dict()"
      ],
      "execution_count": null,
      "outputs": []
    },
    {
      "cell_type": "code",
      "metadata": {
        "id": "FkcmxwnSv368"
      },
      "source": [
        "remove_plurals(cleaned_ingrs_dict, mapping_ingrs_dict)"
      ],
      "execution_count": null,
      "outputs": []
    },
    {
      "cell_type": "code",
      "metadata": {
        "id": "FyQiWSQUwDN-"
      },
      "source": [
        "remove_plurals(cleaned_tags_dict, mapping_tags_dict)"
      ],
      "execution_count": null,
      "outputs": []
    },
    {
      "cell_type": "code",
      "metadata": {
        "id": "YBzWyjmwJCpt"
      },
      "source": [
        "def map_tags(lst):\n",
        "  if type(lst) == 'str':\n",
        "    lst = ast.literal_eval(lst)\n",
        "  return [clean_tags(mapping_tags_dict[val]) if val in mapping_tags_dict else clean_tags(val) for val in lst]\n",
        "\n",
        "def map_ingrs(lst):\n",
        "  if type(lst) == 'str':\n",
        "    lst = ast.literal_eval(lst)\n",
        "  return [clean_ingrs(mapping_ingrs_dict[val]) if val in mapping_ingrs_dict else clean_ingrs(val) for val in lst]"
      ],
      "execution_count": null,
      "outputs": []
    },
    {
      "cell_type": "code",
      "metadata": {
        "id": "ID94lPXxyO01"
      },
      "source": [
        "cleaned_recipes_df['tags'] = cleaned_recipes_df['tags'].apply(map_tags)"
      ],
      "execution_count": null,
      "outputs": []
    },
    {
      "cell_type": "code",
      "metadata": {
        "id": "_6RfQzGatVlS"
      },
      "source": [
        "cleaned_recipes_df['ingredients'] = cleaned_recipes_df['ingredients'].apply(map_ingrs)"
      ],
      "execution_count": null,
      "outputs": []
    },
    {
      "cell_type": "code",
      "metadata": {
        "id": "TzE9hDehzDEB"
      },
      "source": [
        "cleaned_recipes_df.sample(5)"
      ],
      "execution_count": null,
      "outputs": []
    },
    {
      "cell_type": "code",
      "metadata": {
        "id": "xgm04ATIPKvT"
      },
      "source": [
        "cleaned_recipes_df.to_csv('./Food_Com_Dataset/cleaned_recipes.csv')"
      ],
      "execution_count": null,
      "outputs": []
    },
    {
      "cell_type": "code",
      "metadata": {
        "id": "_d9eQoKJtsMn"
      },
      "source": [
        "pd.DataFrame.from_dict(cleaned_tags_dict, orient='index').to_csv('./Food_Com_Dataset/cleaned_tags.csv')"
      ],
      "execution_count": null,
      "outputs": []
    },
    {
      "cell_type": "code",
      "metadata": {
        "id": "IBVk3YwDt_-g"
      },
      "source": [
        "pd.DataFrame.from_dict(cleaned_ingrs_dict, orient='index').to_csv('./Food_Com_Dataset/cleaned_ingrs.csv')"
      ],
      "execution_count": null,
      "outputs": []
    },
    {
      "cell_type": "code",
      "metadata": {
        "id": "VApdByp1nLPE"
      },
      "source": [
        "pd.DataFrame.from_dict(title_dict, orient='index').to_csv('./Food_Com_Dataset/titles.csv')"
      ],
      "execution_count": null,
      "outputs": []
    },
    {
      "cell_type": "markdown",
      "metadata": {
        "id": "1k8Z_rVvvvft"
      },
      "source": [
        "# Data Enrichment from Food.com"
      ]
    },
    {
      "cell_type": "code",
      "metadata": {
        "id": "CzNvs7dbv0Yx"
      },
      "source": [
        "augmented_recipes_df = pd.read_csv('./Food_Com_Dataset/augmented_recipes.csv')"
      ],
      "execution_count": null,
      "outputs": []
    },
    {
      "cell_type": "code",
      "metadata": {
        "id": "dLifBWtnv9vV"
      },
      "source": [
        "augmented_recipes_df.sample(5)"
      ],
      "execution_count": null,
      "outputs": []
    },
    {
      "cell_type": "code",
      "metadata": {
        "id": "7Ol64dN4wCCv"
      },
      "source": [
        "model_data_df = augmented_recipes_df[['id']].merge(cleaned_recipes_df, how='inner', on='id')[['id', 'name', 'tags', 'ingredients']]"
      ],
      "execution_count": null,
      "outputs": []
    },
    {
      "cell_type": "code",
      "metadata": {
        "colab": {
          "base_uri": "https://localhost:8080/",
          "height": 204
        },
        "id": "qjAcRB3ozvUd",
        "outputId": "ab672f3f-d2e5-4864-9d78-29dbccc3c21d"
      },
      "source": [
        "model_data_df.sample(5)"
      ],
      "execution_count": null,
      "outputs": [
        {
          "output_type": "execute_result",
          "data": {
            "text/html": [
              "<div>\n",
              "<style scoped>\n",
              "    .dataframe tbody tr th:only-of-type {\n",
              "        vertical-align: middle;\n",
              "    }\n",
              "\n",
              "    .dataframe tbody tr th {\n",
              "        vertical-align: top;\n",
              "    }\n",
              "\n",
              "    .dataframe thead th {\n",
              "        text-align: right;\n",
              "    }\n",
              "</style>\n",
              "<table border=\"1\" class=\"dataframe\">\n",
              "  <thead>\n",
              "    <tr style=\"text-align: right;\">\n",
              "      <th></th>\n",
              "      <th>id</th>\n",
              "      <th>name</th>\n",
              "      <th>tags</th>\n",
              "      <th>ingredients</th>\n",
              "    </tr>\n",
              "  </thead>\n",
              "  <tbody>\n",
              "    <tr>\n",
              "      <th>122662</th>\n",
              "      <td>156844</td>\n",
              "      <td>macadamia nut pina colada bars</td>\n",
              "      <td>[dessert, 4_hours_or_less, nuts, south_west_pa...</td>\n",
              "      <td>[all_purpose_flour, butter, powdered_sugar, cr...</td>\n",
              "    </tr>\n",
              "    <tr>\n",
              "      <th>208348</th>\n",
              "      <td>316265</td>\n",
              "      <td>tre s dirty three martini</td>\n",
              "      <td>[for_1_or_2, 3_steps_or_less, easy, beverage, ...</td>\n",
              "      <td>[gin, extra_dry_vermouth, olive_juice, green_o...</td>\n",
              "    </tr>\n",
              "    <tr>\n",
              "      <th>7015</th>\n",
              "      <td>151385</td>\n",
              "      <td>apple poppy seed muffins</td>\n",
              "      <td>[north_american, brunch, bread, muffins, low_s...</td>\n",
              "      <td>[all_purpose_flour, whole_wheat_flour, brown_s...</td>\n",
              "    </tr>\n",
              "    <tr>\n",
              "      <th>217732</th>\n",
              "      <td>396364</td>\n",
              "      <td>whiskey marinated tenderloins</td>\n",
              "      <td>[meat, steak, main_dish, high_protein, dinner_...</td>\n",
              "      <td>[bourbon, dark_brown_sugar, worcestershire_sau...</td>\n",
              "    </tr>\n",
              "    <tr>\n",
              "      <th>131441</th>\n",
              "      <td>339051</td>\n",
              "      <td>mistletoe punch</td>\n",
              "      <td>[beverage, low_saturated_fat, 4_hours_or_less,...</td>\n",
              "      <td>[cranberry_juice_cocktail, orange_juice, water...</td>\n",
              "    </tr>\n",
              "  </tbody>\n",
              "</table>\n",
              "</div>"
            ],
            "text/plain": [
              "            id  ...                                        ingredients\n",
              "122662  156844  ...  [all_purpose_flour, butter, powdered_sugar, cr...\n",
              "208348  316265  ...  [gin, extra_dry_vermouth, olive_juice, green_o...\n",
              "7015    151385  ...  [all_purpose_flour, whole_wheat_flour, brown_s...\n",
              "217732  396364  ...  [bourbon, dark_brown_sugar, worcestershire_sau...\n",
              "131441  339051  ...  [cranberry_juice_cocktail, orange_juice, water...\n",
              "\n",
              "[5 rows x 4 columns]"
            ]
          },
          "metadata": {},
          "execution_count": 72
        }
      ]
    },
    {
      "cell_type": "code",
      "metadata": {
        "colab": {
          "base_uri": "https://localhost:8080/"
        },
        "id": "M85UGaGo1ONG",
        "outputId": "c299d603-654a-4380-a6f1-6d0ee3299b45"
      },
      "source": [
        "augmented_recipes_df.columns"
      ],
      "execution_count": null,
      "outputs": [
        {
          "output_type": "execute_result",
          "data": {
            "text/plain": [
              "Index(['Unnamed: 0', 'name', 'minutes', 'contributor_id', 'submitted', 'tags',\n",
              "       'n_steps', 'steps_p', 'description', 'ingredients_p', 'n_ingredients',\n",
              "       'cal', 'totalFat', 'sugar', 'sodium', 'protein', 'satFat', 'carbs',\n",
              "       'image', 'ingredients', 'steps', 'yields', 'id', 'servings'],\n",
              "      dtype='object')"
            ]
          },
          "metadata": {},
          "execution_count": 73
        }
      ]
    },
    {
      "cell_type": "code",
      "metadata": {
        "id": "dVUyOBHI1P9g"
      },
      "source": [
        "COLUMNS_TO_DROP = ['Unnamed: 0', 'steps_p', 'ingredients_p', 'yields']\n",
        "database_df = augmented_recipes_df.drop(COLUMNS_TO_DROP, axis=1)"
      ],
      "execution_count": null,
      "outputs": []
    },
    {
      "cell_type": "code",
      "metadata": {
        "id": "fY3BWiAnOWln"
      },
      "source": [
        "model_data_df.to_csv('./Food_Com_Dataset/model_data.csv')\n",
        "database_df.to_csv('./Food_Com_Dataset/database.csv')"
      ],
      "execution_count": null,
      "outputs": []
    },
    {
      "cell_type": "code",
      "metadata": {
        "id": "3RzLDiMF4Dkc"
      },
      "source": [
        "model_data_df = pd.read_csv('./Food_Com_Dataset/model_data.csv', index_col=0)\n",
        "database_df = pd.read_csv('./Food_Com_Dataset/database.csv', index_col=0)"
      ],
      "execution_count": null,
      "outputs": []
    },
    {
      "cell_type": "code",
      "metadata": {
        "id": "OoMtagri4ftR"
      },
      "source": [
        "s = model_data_df.sample(1, random_state=42)"
      ],
      "execution_count": null,
      "outputs": []
    },
    {
      "cell_type": "code",
      "metadata": {
        "colab": {
          "base_uri": "https://localhost:8080/"
        },
        "id": "pHEhBs094lvK",
        "outputId": "c6197c1a-b032-4bef-918e-50f279c93cfb"
      },
      "source": [
        "s.tags.tolist()"
      ],
      "execution_count": null,
      "outputs": [
        {
          "output_type": "execute_result",
          "data": {
            "text/plain": [
              "[\"['north_american', '60_minutes_or_less', 'meat', 'low_saturated_fat', 'rice', 'main_dish', 'micro_melanesia', 'hawaiian', 'chicken', 'low_cholesterol', 'south_west_pacific', 'polynesian', 'white_rice', 'cheap', 'one_dish_meal', 'poultry', 'american']\"]"
            ]
          },
          "metadata": {},
          "execution_count": 15
        }
      ]
    },
    {
      "cell_type": "code",
      "metadata": {
        "colab": {
          "base_uri": "https://localhost:8080/"
        },
        "id": "BRajfhvF5MF9",
        "outputId": "50a27f59-dbb8-4876-b276-31a12a731a69"
      },
      "source": [
        "s.ingredients.tolist()"
      ],
      "execution_count": null,
      "outputs": [
        {
          "output_type": "execute_result",
          "data": {
            "text/plain": [
              "[\"['boneless_skinless_chicken_breasts', 'kosher_salt', 'half_and_half', 'flour', 'paprika', 'black_pepper', 'sesame_seeds', 'parsley', 'canola_oil', 'cooked_white_rice', 'butter', 'chicken_bouillon_cubes', 'cayenne_pepper', 'water']\"]"
            ]
          },
          "metadata": {},
          "execution_count": 16
        }
      ]
    },
    {
      "cell_type": "code",
      "metadata": {
        "id": "s4KzhsIQ5Srh"
      },
      "source": [
        ""
      ],
      "execution_count": null,
      "outputs": []
    }
  ]
}